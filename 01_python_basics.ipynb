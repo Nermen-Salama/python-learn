{
  "nbformat": 4,
  "nbformat_minor": 0,
  "metadata": {
    "colab": {
      "name": "01_python-basics.ipynb",
      "provenance": [],
      "toc_visible": true,
      "include_colab_link": true
    },
    "kernelspec": {
      "name": "python3",
      "display_name": "Python 3"
    },
    "language_info": {
      "name": "python"
    }
  },
  "cells": [
    {
      "cell_type": "markdown",
      "metadata": {
        "id": "view-in-github",
        "colab_type": "text"
      },
      "source": [
        "<a href=\"https://colab.research.google.com/github/Nermen-Salama/python-learn/blob/main/01_python_basics.ipynb\" target=\"_parent\"><img src=\"https://colab.research.google.com/assets/colab-badge.svg\" alt=\"Open In Colab\"/></a>"
      ]
    },
    {
      "cell_type": "markdown",
      "metadata": {
        "id": "tg_w7Kz6gVSf"
      },
      "source": [
        "<p><img alt=\"Colaboratory logo\" height=\"45px\" src=\"/img/colab_favicon.ico\" align=\"left\" hspace=\"10px\" vspace=\"0px\"></p>\n",
        "\n",
        "<h1>What is Colaboratory?</h1>\n",
        "\n",
        "Colaboratory, or \"Colab\" for short, allows you to write and execute Python in your browser, with \n",
        "- Zero configuration required\n",
        "- Free access to GPUs\n",
        "- Easy sharing\n",
        "\n",
        "Whether you're a **student**, a **data scientist** or an **AI researcher**, Colab can make your work easier. Watch [Introduction to Colab](https://www.youtube.com/watch?v=inN8seMm7UI) to learn more, or just get started below!"
      ]
    },
    {
      "cell_type": "markdown",
      "metadata": {
        "id": "lgX_WriIgg-E"
      },
      "source": [
        "## **Getting started**\n",
        "\n",
        "The document you are reading is not a static web page, but an interactive environment called a **Colab notebook** that lets you write and execute code.\n",
        "<h1>This Tutorial made for \"AI from Concept to Market\" course.</h1> \n",
        "\n",
        "For example, here is a **code cell** with a short Python script that computes a value, stores it in a variable, and prints the result:\n"
      ]
    },
    {
      "cell_type": "markdown",
      "metadata": {
        "id": "cqHOBkNdpqHm"
      },
      "source": [
        "# VARIABLES AND ASSIGNMENT\n",
        "A **variable** is a string of characters and numbers associated with a piece of information.\n",
        "\n",
        "The **assignment operator**, denoted by the “=” symbol, is the operator that is used to assign values to variables in Python. \n",
        "\n"
      ]
    },
    {
      "cell_type": "markdown",
      "metadata": {
        "id": "DbLr9S77q7c_"
      },
      "source": [
        "##Simple Expression (Object Operator) "
      ]
    },
    {
      "cell_type": "code",
      "metadata": {
        "id": "PaoDveF0q6u9"
      },
      "source": [
        "x = 8"
      ],
      "execution_count": 1,
      "outputs": []
    },
    {
      "cell_type": "code",
      "metadata": {
        "colab": {
          "base_uri": "https://localhost:8080/"
        },
        "id": "KojhutNKfLxA",
        "outputId": "288eaf4c-7999-4564-a35b-ac668b7655aa"
      },
      "source": [
        "x"
      ],
      "execution_count": 2,
      "outputs": [
        {
          "output_type": "execute_result",
          "data": {
            "text/plain": [
              "8"
            ]
          },
          "metadata": {},
          "execution_count": 2
        }
      ]
    },
    {
      "cell_type": "code",
      "metadata": {
        "id": "Q9tuWfcqfMpx"
      },
      "source": [
        "y=\"Eman\""
      ],
      "execution_count": 3,
      "outputs": []
    },
    {
      "cell_type": "code",
      "metadata": {
        "colab": {
          "base_uri": "https://localhost:8080/",
          "height": 35
        },
        "id": "RYmdSKwSrScd",
        "outputId": "87f18010-3772-4262-9c49-6d7e705f7257"
      },
      "source": [
        "y"
      ],
      "execution_count": 4,
      "outputs": [
        {
          "output_type": "execute_result",
          "data": {
            "application/vnd.google.colaboratory.intrinsic+json": {
              "type": "string"
            },
            "text/plain": [
              "'Eman'"
            ]
          },
          "metadata": {},
          "execution_count": 4
        }
      ]
    },
    {
      "cell_type": "markdown",
      "metadata": {
        "id": "8TYX61EorgXH"
      },
      "source": [
        "A variable is like a “**container**” used to store the data in the computer’s memory. <h1>TRY IT!</h1>List all the variables in this notebook."
      ]
    },
    {
      "cell_type": "code",
      "metadata": {
        "colab": {
          "base_uri": "https://localhost:8080/"
        },
        "id": "jjnE17_erfPN",
        "outputId": "d26dd1aa-bd4b-4baf-d37d-92724eff93ee"
      },
      "source": [
        "%whos"
      ],
      "execution_count": 5,
      "outputs": [
        {
          "output_type": "stream",
          "name": "stdout",
          "text": [
            "Variable   Type    Data/Info\n",
            "----------------------------\n",
            "x          int     8\n",
            "y          str     Eman\n"
          ]
        }
      ]
    },
    {
      "cell_type": "markdown",
      "metadata": {
        "id": "y1TS8UQTsXbf"
      },
      "source": [
        "**Restart Runtime and Repeat** \n",
        "\n",
        "from Runtime tab --> Restart runtime"
      ]
    },
    {
      "cell_type": "code",
      "metadata": {
        "colab": {
          "base_uri": "https://localhost:8080/"
        },
        "id": "pAwBAVVMsX8p",
        "outputId": "c7c15c5a-4e78-417b-ab60-94e6c5fe2280"
      },
      "source": [
        "%whos\n",
        "#Interactive namespace is empty."
      ],
      "execution_count": 1,
      "outputs": [
        {
          "output_type": "stream",
          "name": "stdout",
          "text": [
            "Interactive namespace is empty.\n"
          ]
        }
      ]
    },
    {
      "cell_type": "markdown",
      "metadata": {
        "id": "Ntzaj71NtH8x"
      },
      "source": [
        "<h1>TRY IT!</h1> The mathematical statement x = x + 1 has no solution for any value of x. In programming, if we initialize the value of x to be 1, then the statement makes perfect sense."
      ]
    },
    {
      "cell_type": "code",
      "metadata": {
        "id": "ghg_Qw34v74j"
      },
      "source": [
        "x=7"
      ],
      "execution_count": 3,
      "outputs": []
    },
    {
      "cell_type": "code",
      "metadata": {
        "id": "zLR7TYDptnyz"
      },
      "source": [
        "x= x + 1"
      ],
      "execution_count": 4,
      "outputs": []
    },
    {
      "cell_type": "code",
      "metadata": {
        "colab": {
          "base_uri": "https://localhost:8080/"
        },
        "id": "FtAYloCittW0",
        "outputId": "ba9e8aae-3fb3-4681-f989-bcf1a191d727"
      },
      "source": [
        "x"
      ],
      "execution_count": 5,
      "outputs": [
        {
          "output_type": "execute_result",
          "data": {
            "text/plain": [
              "8"
            ]
          },
          "metadata": {},
          "execution_count": 5
        }
      ]
    },
    {
      "cell_type": "markdown",
      "metadata": {
        "id": "eeG6ldgWzHNu"
      },
      "source": [
        "##Naming Rules"
      ]
    },
    {
      "cell_type": "markdown",
      "metadata": {
        "id": "rSul-BCCGE_X"
      },
      "source": [
        "- variable name should be descriptive\n"
      ]
    },
    {
      "cell_type": "code",
      "metadata": {
        "id": "e5MhDsF6GE_X"
      },
      "source": [
        "v=0\n",
        "g=0.5"
      ],
      "execution_count": null,
      "outputs": []
    },
    {
      "cell_type": "code",
      "metadata": {
        "id": "g28ibz9xGE_X"
      },
      "source": [
        "#should be \n",
        "velocity=0\n",
        "gravity=0.5"
      ],
      "execution_count": null,
      "outputs": []
    },
    {
      "cell_type": "markdown",
      "metadata": {
        "id": "SVOvQKRqGE_Y"
      },
      "source": [
        "- Avoid using python keywords"
      ]
    },
    {
      "cell_type": "code",
      "metadata": {
        "id": "dCQJiv9PGE_Y"
      },
      "source": [
        "# like:  And , If , Else , for , Where , is , import"
      ],
      "execution_count": null,
      "outputs": []
    },
    {
      "cell_type": "code",
      "metadata": {
        "id": "25BbbrX8GE_Y"
      },
      "source": [
        "if=1"
      ],
      "execution_count": null,
      "outputs": []
    },
    {
      "cell_type": "markdown",
      "metadata": {
        "id": "q3pXxQpCGE_Y"
      },
      "source": [
        "- python is case sensitive"
      ]
    },
    {
      "cell_type": "code",
      "metadata": {
        "id": "onD5Y7FiGE_Y"
      },
      "source": [
        "a=5"
      ],
      "execution_count": null,
      "outputs": []
    },
    {
      "cell_type": "code",
      "metadata": {
        "id": "KbpNTwa2GE_Z"
      },
      "source": [
        "A=4"
      ],
      "execution_count": null,
      "outputs": []
    },
    {
      "cell_type": "markdown",
      "metadata": {
        "id": "CjSElrTOzXvu"
      },
      "source": [
        "<h1>TRY IT!</h1>In the following code (A or a) will be used?"
      ]
    },
    {
      "cell_type": "code",
      "metadata": {
        "id": "jrLiuW69GE_Z"
      },
      "source": [
        "A*3"
      ],
      "execution_count": null,
      "outputs": []
    },
    {
      "cell_type": "code",
      "metadata": {
        "id": "mH7FrfbtGE_Z"
      },
      "source": [
        "A=2"
      ],
      "execution_count": null,
      "outputs": []
    },
    {
      "cell_type": "code",
      "metadata": {
        "id": "kgyjdUAqGE_Z",
        "outputId": "b08f02a6-4fde-4a9d-b582-fbd6d30080cf"
      },
      "source": [
        "A*a"
      ],
      "execution_count": null,
      "outputs": [
        {
          "data": {
            "text/plain": [
              "10"
            ]
          },
          "execution_count": 39,
          "metadata": {},
          "output_type": "execute_result"
        }
      ]
    },
    {
      "cell_type": "markdown",
      "metadata": {
        "id": "02JijfKaGE_Z"
      },
      "source": [
        "- python variable shouldn't start with number"
      ]
    },
    {
      "cell_type": "code",
      "metadata": {
        "id": "PBLcTPCuGE_Z"
      },
      "source": [
        "#1var=9"
      ],
      "execution_count": null,
      "outputs": []
    },
    {
      "cell_type": "markdown",
      "metadata": {
        "id": "VfkzKJuEGE_Z"
      },
      "source": [
        "- python variable shouldn't contain symbol except _"
      ]
    },
    {
      "cell_type": "code",
      "metadata": {
        "id": "i5rWrfn8GE_a",
        "outputId": "6af1b802-2a43-4222-a6aa-7515eb644938"
      },
      "source": [
        "nu@mbers=9"
      ],
      "execution_count": null,
      "outputs": [
        {
          "ename": "SyntaxError",
          "evalue": "can't assign to operator (<ipython-input-41-abeac88379fe>, line 1)",
          "output_type": "error",
          "traceback": [
            "\u001b[1;36m  File \u001b[1;32m\"<ipython-input-41-abeac88379fe>\"\u001b[1;36m, line \u001b[1;32m1\u001b[0m\n\u001b[1;33m    nu@mbers=9\u001b[0m\n\u001b[1;37m              ^\u001b[0m\n\u001b[1;31mSyntaxError\u001b[0m\u001b[1;31m:\u001b[0m can't assign to operator\n"
          ]
        }
      ]
    },
    {
      "cell_type": "code",
      "metadata": {
        "id": "BgdKdwNEGE_a"
      },
      "source": [
        "_x=9"
      ],
      "execution_count": null,
      "outputs": []
    },
    {
      "cell_type": "code",
      "metadata": {
        "id": "cTdl60BWGE_a",
        "outputId": "13c5c203-27f1-4555-c1e3-98c44e894432"
      },
      "source": [
        "_x"
      ],
      "execution_count": null,
      "outputs": [
        {
          "data": {
            "text/plain": [
              "9"
            ]
          },
          "execution_count": 134,
          "metadata": {},
          "output_type": "execute_result"
        }
      ]
    },
    {
      "cell_type": "markdown",
      "metadata": {
        "id": "LLHWi3aOtTIa"
      },
      "source": [
        "##DATA TYPES"
      ]
    },
    {
      "cell_type": "code",
      "metadata": {
        "id": "9CwvxVGEGE_N"
      },
      "source": [
        "y=6"
      ],
      "execution_count": 16,
      "outputs": []
    },
    {
      "cell_type": "code",
      "metadata": {
        "id": "eoqk7h5mGE_O",
        "colab": {
          "base_uri": "https://localhost:8080/"
        },
        "outputId": "469f8f61-49b7-4938-a5f7-76184c2e3f33"
      },
      "source": [
        "type(y)"
      ],
      "execution_count": 17,
      "outputs": [
        {
          "output_type": "execute_result",
          "data": {
            "text/plain": [
              "int"
            ]
          },
          "metadata": {},
          "execution_count": 17
        }
      ]
    },
    {
      "cell_type": "code",
      "metadata": {
        "id": "yqWqCetnGE_P"
      },
      "source": [
        "z=True"
      ],
      "execution_count": 9,
      "outputs": []
    },
    {
      "cell_type": "code",
      "metadata": {
        "id": "l9X1Laq2GE_Q",
        "colab": {
          "base_uri": "https://localhost:8080/"
        },
        "outputId": "c78c8973-9d45-4b98-e8d7-bc098672fa0e"
      },
      "source": [
        "type(z)"
      ],
      "execution_count": 10,
      "outputs": [
        {
          "output_type": "execute_result",
          "data": {
            "text/plain": [
              "bool"
            ]
          },
          "metadata": {},
          "execution_count": 10
        }
      ]
    },
    {
      "cell_type": "code",
      "metadata": {
        "id": "IF4337BRGE_Q",
        "colab": {
          "base_uri": "https://localhost:8080/"
        },
        "outputId": "4f738ce5-7b0c-4984-b3a9-27f808927139"
      },
      "source": [
        "w=10/4\n",
        "w"
      ],
      "execution_count": 13,
      "outputs": [
        {
          "output_type": "execute_result",
          "data": {
            "text/plain": [
              "2.5"
            ]
          },
          "metadata": {},
          "execution_count": 13
        }
      ]
    },
    {
      "cell_type": "code",
      "metadata": {
        "colab": {
          "base_uri": "https://localhost:8080/"
        },
        "id": "wSZHogHCuwFb",
        "outputId": "80911567-8e6f-4b81-8002-fe5ac0bf823b"
      },
      "source": [
        "type(w)"
      ],
      "execution_count": 12,
      "outputs": [
        {
          "output_type": "execute_result",
          "data": {
            "text/plain": [
              "float"
            ]
          },
          "metadata": {},
          "execution_count": 12
        }
      ]
    },
    {
      "cell_type": "code",
      "metadata": {
        "id": "0lo4q5PnuwS7"
      },
      "source": [
        "q = \"Hello World\""
      ],
      "execution_count": 14,
      "outputs": []
    },
    {
      "cell_type": "code",
      "metadata": {
        "id": "lbbm62ZlwVJ5",
        "outputId": "f5f97332-1dff-4d00-c5a0-f987d3e3ab89",
        "colab": {
          "base_uri": "https://localhost:8080/"
        }
      },
      "source": [
        "type(q)"
      ],
      "execution_count": 15,
      "outputs": [
        {
          "output_type": "execute_result",
          "data": {
            "text/plain": [
              "str"
            ]
          },
          "metadata": {},
          "execution_count": 15
        }
      ]
    },
    {
      "cell_type": "code",
      "metadata": {
        "id": "Ia-vjvoPxMhC",
        "outputId": "a900215c-a1f7-4128-89e4-358f844b2882",
        "colab": {
          "base_uri": "https://localhost:8080/"
        }
      },
      "source": [
        "%whos"
      ],
      "execution_count": 18,
      "outputs": [
        {
          "output_type": "stream",
          "name": "stdout",
          "text": [
            "Variable   Type     Data/Info\n",
            "-----------------------------\n",
            "q          str      Hello World\n",
            "w          float    2.5\n",
            "x          int      8\n",
            "y          int      6\n",
            "z          bool     True\n"
          ]
        }
      ]
    },
    {
      "cell_type": "markdown",
      "metadata": {
        "id": "trE-fAFyz1b7"
      },
      "source": [
        "##DATA STRUCTURE – STRING\n",
        "\n",
        "A **string** is a sequence of characters, such as \"Hello World\". Strings are\n",
        "surrounded by either single **'    '** or double quotation **\"    \"** marks. We can use print function to output the strings\n",
        "to the screen."
      ]
    },
    {
      "cell_type": "code",
      "metadata": {
        "id": "bXWFRWz46A1M",
        "outputId": "52b121a7-abf5-4f3b-ce74-5f5d6aaf9460",
        "colab": {
          "base_uri": "https://localhost:8080/"
        }
      },
      "source": [
        "print(\"I love Python!\")"
      ],
      "execution_count": 19,
      "outputs": [
        {
          "output_type": "stream",
          "name": "stdout",
          "text": [
            "I love Python!\n"
          ]
        }
      ]
    },
    {
      "cell_type": "code",
      "metadata": {
        "id": "RpehgIYG6GMr",
        "outputId": "2ee2f231-e74b-41c0-865b-5efff7de7c05",
        "colab": {
          "base_uri": "https://localhost:8080/"
        }
      },
      "source": [
        " s = \" \"\n",
        "type(s)"
      ],
      "execution_count": 20,
      "outputs": [
        {
          "output_type": "execute_result",
          "data": {
            "text/plain": [
              "str"
            ]
          },
          "metadata": {},
          "execution_count": 20
        }
      ]
    },
    {
      "cell_type": "markdown",
      "metadata": {
        "id": "Ty0R_e3WGE_a"
      },
      "source": [
        "###STRING Indexing"
      ]
    },
    {
      "cell_type": "markdown",
      "metadata": {
        "id": "75BIKpnD6UnA"
      },
      "source": [
        "<p><img alt=\"String Index\" height=\"70px\" \n",
        "<img src=\"data:image/x-icon;base64,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\">"
      ]
    },
    {
      "cell_type": "code",
      "metadata": {
        "id": "cf8Fjpl-GE_b"
      },
      "source": [
        "Name = \"Congratulations\""
      ],
      "execution_count": 22,
      "outputs": []
    },
    {
      "cell_type": "code",
      "metadata": {
        "id": "6HOU3Ws1GE_b",
        "outputId": "c503ef0d-864c-4623-f959-84ef1abdeae5"
      },
      "source": [
        "Name[0]"
      ],
      "execution_count": null,
      "outputs": [
        {
          "data": {
            "text/plain": [
              "'I'"
            ]
          },
          "execution_count": 136,
          "metadata": {},
          "output_type": "execute_result"
        }
      ]
    },
    {
      "cell_type": "code",
      "metadata": {
        "id": "7WNN4wrHGE_b",
        "outputId": "a0da34cc-9d4e-47d1-a6d8-1020561fd8a0"
      },
      "source": [
        "Name[1]"
      ],
      "execution_count": null,
      "outputs": [
        {
          "data": {
            "text/plain": [
              "'n'"
            ]
          },
          "execution_count": 137,
          "metadata": {},
          "output_type": "execute_result"
        }
      ]
    },
    {
      "cell_type": "code",
      "metadata": {
        "id": "lNv8IKsRGE_b",
        "outputId": "b66cada3-32ec-45f1-e62c-b4a29c50c1eb"
      },
      "source": [
        "Name[4]"
      ],
      "execution_count": null,
      "outputs": [
        {
          "data": {
            "text/plain": [
              "'x'"
            ]
          },
          "execution_count": 138,
          "metadata": {},
          "output_type": "execute_result"
        }
      ]
    },
    {
      "cell_type": "code",
      "metadata": {
        "id": "wRjqxsx-GE_b",
        "outputId": "d08b8e64-2383-4142-fd09-09875e6e95c8"
      },
      "source": [
        "Name[-1]"
      ],
      "execution_count": null,
      "outputs": [
        {
          "data": {
            "text/plain": [
              "'g'"
            ]
          },
          "execution_count": 139,
          "metadata": {},
          "output_type": "execute_result"
        }
      ]
    },
    {
      "cell_type": "code",
      "metadata": {
        "id": "wwL2fvXSGE_c",
        "outputId": "f629d3f4-4635-4b9a-feff-bbe107d5d731"
      },
      "source": [
        "Name[-2]"
      ],
      "execution_count": null,
      "outputs": [
        {
          "data": {
            "text/plain": [
              "'n'"
            ]
          },
          "execution_count": 140,
          "metadata": {},
          "output_type": "execute_result"
        }
      ]
    },
    {
      "cell_type": "code",
      "metadata": {
        "id": "vFQcNI0QGE_c",
        "outputId": "374aeffd-bdd4-4fc6-d1d0-20988f16145b"
      },
      "source": [
        "Name[0:4]"
      ],
      "execution_count": null,
      "outputs": [
        {
          "data": {
            "text/plain": [
              "'Inde'"
            ]
          },
          "execution_count": 141,
          "metadata": {},
          "output_type": "execute_result"
        }
      ]
    },
    {
      "cell_type": "markdown",
      "metadata": {
        "id": "poDVmzaTGE_c"
      },
      "source": [
        "- ***Name[start:end:step]***"
      ]
    },
    {
      "cell_type": "code",
      "metadata": {
        "id": "2Kf04OCQGE_c",
        "outputId": "27ff1717-ffe4-4ba2-b3eb-898511549474"
      },
      "source": [
        "Name[5:]"
      ],
      "execution_count": null,
      "outputs": [
        {
          "data": {
            "text/plain": [
              "'ing'"
            ]
          },
          "execution_count": 142,
          "metadata": {},
          "output_type": "execute_result"
        }
      ]
    },
    {
      "cell_type": "code",
      "metadata": {
        "id": "Xnq42X-cGE_d",
        "outputId": "d7687c8f-d9c6-4fdc-a8e8-2f178980a4cc"
      },
      "source": [
        "Name[::-1]"
      ],
      "execution_count": null,
      "outputs": [
        {
          "data": {
            "text/plain": [
              "'gnixednI'"
            ]
          },
          "execution_count": 143,
          "metadata": {},
          "output_type": "execute_result"
        }
      ]
    },
    {
      "cell_type": "code",
      "metadata": {
        "id": "7xhI-BEsGE_d",
        "outputId": "92cd4b71-4356-4d51-f3f1-98219bebd664",
        "colab": {
          "base_uri": "https://localhost:8080/",
          "height": 35
        }
      },
      "source": [
        "\n",
        "Name[0:8:2]"
      ],
      "execution_count": 24,
      "outputs": [
        {
          "output_type": "execute_result",
          "data": {
            "application/vnd.google.colaboratory.intrinsic+json": {
              "type": "string"
            },
            "text/plain": [
              "'Cnrt'"
            ]
          },
          "metadata": {},
          "execution_count": 24
        }
      ]
    },
    {
      "cell_type": "code",
      "metadata": {
        "id": "3-ZhtOrR49j1",
        "outputId": "d2371fde-6ea2-41bd-a629-970d19f20b70",
        "colab": {
          "base_uri": "https://localhost:8080/"
        }
      },
      "source": [
        "len(Name)"
      ],
      "execution_count": 23,
      "outputs": [
        {
          "output_type": "execute_result",
          "data": {
            "text/plain": [
              "15"
            ]
          },
          "metadata": {},
          "execution_count": 23
        }
      ]
    },
    {
      "cell_type": "markdown",
      "metadata": {
        "id": "OLpBvr7-8S0W"
      },
      "source": [
        "TRY IT! Turn the variable w to upper case."
      ]
    },
    {
      "cell_type": "code",
      "metadata": {
        "id": "us7FqFZJ8Tvn"
      },
      "source": [
        "Name.upper()"
      ],
      "execution_count": null,
      "outputs": []
    },
    {
      "cell_type": "markdown",
      "metadata": {
        "id": "Eqczdekr8drM"
      },
      "source": [
        "TRY IT! Count the number of occurrences for letter \"l\" in w."
      ]
    },
    {
      "cell_type": "code",
      "metadata": {
        "id": "UKa9Baxb8gCa"
      },
      "source": [
        "Name.count(\"l\")"
      ],
      "execution_count": null,
      "outputs": []
    },
    {
      "cell_type": "markdown",
      "metadata": {
        "id": "yo7zfRtw8ryu"
      },
      "source": [
        "TRY IT! Replace the \"World\" in variable w to \"Berkeley\".\n"
      ]
    },
    {
      "cell_type": "code",
      "metadata": {
        "id": "tVBUgXdE8ynO",
        "outputId": "dc00894e-363b-4b2a-bfdd-48ab51663743",
        "colab": {
          "base_uri": "https://localhost:8080/",
          "height": 35
        }
      },
      "source": [
        "Name=\"Hi Cairo\"\n",
        "Name"
      ],
      "execution_count": 29,
      "outputs": [
        {
          "output_type": "execute_result",
          "data": {
            "application/vnd.google.colaboratory.intrinsic+json": {
              "type": "string"
            },
            "text/plain": [
              "'Hi Cairo'"
            ]
          },
          "metadata": {},
          "execution_count": 29
        }
      ]
    },
    {
      "cell_type": "code",
      "metadata": {
        "id": "hHJdceMs8ua0",
        "outputId": "740e29af-5908-44bd-8db5-af32b32c0cfe",
        "colab": {
          "base_uri": "https://localhost:8080/",
          "height": 35
        }
      },
      "source": [
        "Name.replace(\"Hi\", \"Bye\")"
      ],
      "execution_count": 27,
      "outputs": [
        {
          "output_type": "execute_result",
          "data": {
            "application/vnd.google.colaboratory.intrinsic+json": {
              "type": "string"
            },
            "text/plain": [
              "'Bye Cairo'"
            ]
          },
          "metadata": {},
          "execution_count": 27
        }
      ]
    },
    {
      "cell_type": "markdown",
      "metadata": {
        "id": "mpWJgdvq9V1k"
      },
      "source": [
        "There are different ways to preformat a string. Here we introduce two ways to do it. For example,\n",
        "if we have two variables name and country, and we want to print them out in a sentence, but we do not\n",
        "want to use the string concatenation we used before since it will use many \"+\" signs in the string, we\n",
        "can do the following instead:"
      ]
    },
    {
      "cell_type": "code",
      "metadata": {
        "id": "Pohrb3DD9bI_",
        "outputId": "3a4aee91-c007-4e5b-e9f2-e881e9dd2719",
        "colab": {
          "base_uri": "https://localhost:8080/"
        }
      },
      "source": [
        "name = \"UC Berkeley\"\n",
        "country = \"USA\"\n",
        "print(\"%s is a great school in %s!\"%(name, country))"
      ],
      "execution_count": 30,
      "outputs": [
        {
          "output_type": "stream",
          "name": "stdout",
          "text": [
            "UC Berkeley is a great school in USA!\n"
          ]
        }
      ]
    },
    {
      "cell_type": "markdown",
      "metadata": {
        "id": "hFdchk0f9kf_"
      },
      "source": [
        "There is a different way that only introduced in Python 3.6 and above, it is called **f-string**,\n",
        "which means formated-string. You can easily format a string with the following line:"
      ]
    },
    {
      "cell_type": "code",
      "metadata": {
        "id": "ezeo7Nut9ko0",
        "outputId": "7162b50c-018b-4306-d437-0c9f97a66130",
        "colab": {
          "base_uri": "https://localhost:8080/"
        }
      },
      "source": [
        " print(f\"{name} is a great school in {country}.\")"
      ],
      "execution_count": 31,
      "outputs": [
        {
          "output_type": "stream",
          "name": "stdout",
          "text": [
            "UC Berkeley is a great school in USA.\n"
          ]
        }
      ]
    },
    {
      "cell_type": "markdown",
      "metadata": {
        "id": "Il-SxAKQGE_d"
      },
      "source": [
        "### Input function"
      ]
    },
    {
      "cell_type": "code",
      "metadata": {
        "id": "Qb4y7omMGE_d",
        "outputId": "b834c78d-ee61-40e7-ad5a-dbc9fe48e309",
        "colab": {
          "base_uri": "https://localhost:8080/",
          "height": 51
        }
      },
      "source": [
        "input()"
      ],
      "execution_count": 32,
      "outputs": [
        {
          "name": "stdout",
          "output_type": "stream",
          "text": [
            "5\n"
          ]
        },
        {
          "output_type": "execute_result",
          "data": {
            "application/vnd.google.colaboratory.intrinsic+json": {
              "type": "string"
            },
            "text/plain": [
              "'5'"
            ]
          },
          "metadata": {},
          "execution_count": 32
        }
      ]
    },
    {
      "cell_type": "code",
      "metadata": {
        "id": "dq-kmQh9GE_d",
        "outputId": "f2f8b157-ba03-42a3-cb76-0eeee43176da",
        "colab": {
          "base_uri": "https://localhost:8080/"
        }
      },
      "source": [
        "x=input('enter an integer:')"
      ],
      "execution_count": 34,
      "outputs": [
        {
          "name": "stdout",
          "output_type": "stream",
          "text": [
            "enter an integer:k\n"
          ]
        }
      ]
    },
    {
      "cell_type": "code",
      "metadata": {
        "id": "9Ei5QDDoGE_e",
        "outputId": "5a6d2368-d5be-4a6d-93d4-7877cfff9247",
        "colab": {
          "base_uri": "https://localhost:8080/"
        }
      },
      "source": [
        "# input function returns string by dafult\n",
        "type(x)"
      ],
      "execution_count": 35,
      "outputs": [
        {
          "output_type": "execute_result",
          "data": {
            "text/plain": [
              "str"
            ]
          },
          "metadata": {},
          "execution_count": 35
        }
      ]
    },
    {
      "cell_type": "code",
      "metadata": {
        "id": "5h-SUEgvGE_e",
        "outputId": "bf313401-1e0e-4f51-d756-66406c2a9826",
        "colab": {
          "base_uri": "https://localhost:8080/"
        }
      },
      "source": [
        "#type conversion\n",
        "x=int(input('enter an integer:'))"
      ],
      "execution_count": 37,
      "outputs": [
        {
          "name": "stdout",
          "output_type": "stream",
          "text": [
            "enter an integer:5\n"
          ]
        }
      ]
    },
    {
      "cell_type": "code",
      "metadata": {
        "id": "Mq4GCsmnGE_e",
        "outputId": "f0f4bce7-82eb-4aaa-e3c4-57dd948d535e",
        "colab": {
          "base_uri": "https://localhost:8080/"
        }
      },
      "source": [
        "type(x)"
      ],
      "execution_count": 38,
      "outputs": [
        {
          "output_type": "execute_result",
          "data": {
            "text/plain": [
              "int"
            ]
          },
          "metadata": {},
          "execution_count": 38
        }
      ]
    },
    {
      "cell_type": "markdown",
      "metadata": {
        "id": "ga-Ze-Ppz7Y_"
      },
      "source": [
        "##DATA STRUCTURE – LIST"
      ]
    },
    {
      "cell_type": "markdown",
      "metadata": {
        "id": "pahpd0Xo0Bj4"
      },
      "source": [
        "##DATA STRUCTURE – TUPLE"
      ]
    },
    {
      "cell_type": "markdown",
      "metadata": {
        "id": "KCJDx90g0Ik6"
      },
      "source": [
        "##DATA STRUCTURE – SET"
      ]
    },
    {
      "cell_type": "markdown",
      "metadata": {
        "id": "1VYdX3Yg0NsN"
      },
      "source": [
        "##DATA STRUCTURE – DICTIONARY"
      ]
    },
    {
      "cell_type": "markdown",
      "metadata": {
        "id": "mD3c0RrajnQZ"
      },
      "source": [
        "<p><img alt=\"NumPy logo\" height=\"45px\" \n",
        "<img src=\"data:image/x-icon;base64,AAABAAEAgEAAAAEAIAAohAAAFgAAACgAAACAAAAAgAAAAAEAIAAAAAAAAIAAAP4+AAD+PgAAAAAAAAAAAAAAAAAAAAAAAAAAAAAAAAAAAAAAAAAAAAAAAAAAAAAAAAAAAAAAAAAAAAAAAAAAAAAAAAAAAAAAAAAAAAAAAAAAAAAAAAAAAAAAAAAAAAAAAAAAAAAAAAAAAAAAAAAAAAAAAAAAAAAAAAAAAAAAAAAAAAAAAAAAAAAAAAAAAAAAAAAAAAAAAAAAAAAAAAAAAAAAAAAAAAAAAAAAAAAAAAAAAAAAAAAAAAAAAAAAAAAAAAAAAAAAAAAAAAAAAAAAAAAAAAAAAAAAAAAAAAAAAAAAAAAAAAAAAAAAAAAAAAAAAAAAAAAAAAAAAAAAAAAAAAAAAAAAAAAAAAAAAAAAAAAAAAAAAAAAAAAAAAAAAAAAAAAAAAAAAAAAAAAAAAAAAAAAAAAAAAAAAAAAAAAAAAAAAAAAAAAAAAAAAAAAAAAAAAAAAAAAAAAAAAAAAAAAAAAAAAAAAAAAAAAAAAAAAAAAAAAAAAAAAAAAAAAAAAAAAAAAAAAAAAAAAAAAAAAAAAAAAAAAAAAAAAAAAAAAAAAAAAAAAAAAAAAAAAAAAAAAAAAAAAAAAAAAAAAAAAAAAAAAAAAAAAAAAAAAAAAAAAAAAAAAAAAAAAAAAAAAAAAAAAAAAAAAAAAAAAAAAAAAAAAAAAAAAAAAAAAAAAAAAAAAAAAAAAAAAAAAAAAAAAAAAAAAAAAAAAAAAAAAAAAAAAAAAAAAAAAAAAAAAAAAAAAAAAAAAAAAAAAAAAAAAAAAAAAAAAAAAAAAAAAAAAAAAAAAAAAAAAAAAAAAAAAAAAAAAAAAAAAAAAAAAAAAAAAAAAAAAAAAAAAAAAAAAAAAAAAAAAAAAAAAAAAAAAAAAAAAAAAAAAAAAAAAAAAAAAAAAAAAAAAAAAAAAAAAAAAAAAAAAAAAAAAAAAAAAAAAAAAAAAAAAAAAAAAAAAAAAAAAAAAAAAAAAAAAAAAAAAAAAAAAAAAAAAAAAAAAAAAAAAAAAAAAAAAAAAAAAAAAAAAAAAAAAAAAAAAAAAAAAAAAAAAAAAAAAAAAAAAAAAAAAAAAAAAAAAAAAAAAAAAAAAAAAAAAAAAAAAAAAAAAAAAAAAAAAAAAAAAAAAAAAAAAAAAAAAAAAAAAAAAAAAAAAAAAAAAAAAAAAAAAAAAAAAAAAAAAAAAAAAAAAAAAAAAAAAAAAAAAAAAAAAAAAAAAAAAAAAAAAAAAAAAAAAAAAAAAAAAAAAAAAAAAAAAAAAAAAAAAAAAAAAAAAAAAAAAAAAAAAAAAAAAAAAAAAAAAAAAAAAAAAAAAAAAAAAAAAAAAAAAAAAAAAAAAAAAAAAAAAAAAAAAAAAAAAAAAAAAAAAAAAAAAAAAAAAAAAAAAAAAAAAAAAAAAAAAAAAAAAAAAAAAAAAAAAAAAAAAAAAAAAAAAAAAAAAAAAAAAAAAAAAAAAAAAAAAAAAAAAAAAAAAAAAAAAAAAAAAAAAAAAAAAAAAAAAAAAAAAAAAAAAAAAAAAAAAAAAAAAAAAAAAAAAAAAAAAAAAAAAAAAAAAAAAAAAAAAAAAAAAAAAAAAAAAAAAAAAAAAAAAAAAAAAAAAAAAAAAAAAAAAAAAAAAAAAAAAAAAAAAAAAAAAAAAAAAAAAAAAAAAAAAAAAAAAAAAAAAAAAAAAAAAAAAAAAAAAAAAAAAAAAAAAAAAAAAAAAAAAAAAAAAAAAAAAAAAAAAAAAAAAAAAAAAAAAAAAAAAAAAAAAAAAAAAAAAAAAAAAAAAAAAAAAAAAAAAAAAAAAAAAAAAAAAAAAAAAAAAAAAAAAAAAAAAAAAAAAAAAAAAAAAAAAAAAAAAAAAAAAAAAAAAAAAAAAAAAAAAAAAAAAAAAAAAAAAAAAAAAAAAAAAAAAAAAAAAAAAAAAAAAAAAAAAAAAAAAAAAAAAAAAAAAAAAAAAAAAAAAAAAAAAAAAAAAAAAAAAAAAAAAAAAAAAAAAAAAAAAAAAAAAAAAAAAAAAAAAAAAAAAAAAAAAAAAAAAAAAAAAAAAAAAAAAAAAAAAAAAAAAAAAAAAAAAAAAAAAAAAAAAAAAAAAAAAAAAAAAAAAAAAAAAAAAAAAAAAAAAAAAAAAAAAAAAAAAAAAAAAAAAAAAAAAAAAAAAAAAAAAAAAAAAAAAAAAAAAAAAAAAAAAAAAAAAAAAAAAAAAAAAAAAAAAAAAAAAAAAAAAAAAAAAAAAAAAAAAAAAAAAAAAAAAAAAAAAAAAAAAAAAAAAAAAAAAAAAAAAAAAAAAAAAAAAAAAAAAAAAAAAAAAAAAAAAAAAAAAAAAAAAAAAAAAAAAAAAAAAAAAAAAAAAAAAAAAAAAAAAAAAAAAAAAAAAAAAAAAAAAAAAAAAAAAAAAAAAAAAAAAAAAAAAAAAAAAAAAAAAAAAAAAAAAAAAAAAAAAAAAAAAAAAAAAAAAAAAAAAAAAAAAAAAAAAAAAAAAAAAAAAAAAAAAAAAAAAAAAAAAAAAAAAAAAAAAAAAAAAAAAAAAAAAAAAAAAAAAAAAAAAAAAAAAAAAAAAAAAAAAAAAAAAAAAAAAAAAAAAAAAAAAAAAAAAAAAAAAAAAAAAAAAAAAAAAAAAAAAAAAAAAAAAAAAAAAAAAAAAAAAAAAAAAAAAAAAAAAAAAAAAAAAAAAAAAAAAAAAAAAAAAAAAAAAAAAAAAAAAAAAAAAAAAAAAAAAAAAAAAAAAAAAAAAAAAAAAAAAAAAAAAAAAAAAAAAAAAAAAAAAAAAAAAAAAAAAAAAAAAAAAAAAAAAAAAAAAAAAAAAAAAAAAAAAAAAAAAAAAAAAAAAAAAAAAAAAAAAAAAAAAAAAAAAAAAAAAAAAAAAAAAAAAAAAAAAAAAAAAAAAAAAAAAAAAAAAAAAAAAAAAAAAAAAAAAAAAAAAAAAAAAAAAAAAAAAAAAAAAAAAAAAAAAAAAAAAAAAAAAAAAAAAAAAAAAAAAAAAAAAAAAAAAAAAAAAAAAAAAAAAAAAAAAAAAAAAAAAAAAAAAAAAAAAAAAAAAAAAAAAAAAAAAAAAAAAAAAAAAAAAAAAAAAAAAAAAAAAAAAAAAAAAAAAAAAAAAAAAAAAAAAAAAAAAAAAAAAAAAAAAAAAAAAAAAAAAAAAAAAAAAAAAAAAAAAAAAAAAAAAAAAAAAAAAAAAAAAAAAAAAAAAAAAAAAAAAAAAAAAAAAAAAAAAAAAAAAAAAAAAAAAAAAAAAAAAAAAAAAAAAAAAAAAAAAAAAAAAAAAAAAAAAAAAAAAAAAAAAAAAAAAAAAAAAAAAAAAAAAAAAAAAAAAAAAAAAAAAAAAAAAAAAAAAAAAAAAAAAAAAAAAAAAAAAAAAAAAAAAAAAAAAAAAAAAAAAAAAAAAAAAAAAAAAAAAAAAAAAAAAAAAAAAAAAAAAAAAAAAAAAAAAAAAAAAAAAAAAAAAAAAAAAAAAAAAAAAAAAAAAAAAAAAAAAAAAAAAAAAAAAAAAAAAAAAAAAAAAAAAAAAAAAAAAAAAAAAAAAAAAAAAAAAAAAAAAAAAAAAAAAAAAAAAAAAAAAAAAAAAAAAAAAAAAAAAAAAAAAAAAAAAAAAAAAAAAAAAAAAAAAAAAAAAAAAAAAAAAAAAAAAAAAAAAAAAAAAAAAAAAAAAAAAAAAAAAAAAAAAAAAAAAAAAAAAAAAAAAAAAAAAAAAAAAAAAAAAAAAAAAAAAAAAAAAAAAAAAAAAAAAAAAAAAAAAAAAAAAAAAAAAAAAAAAAAAAAAAAAAAAAAAAAAAAAAAAAAAAAAAAAAAAAAAAAAAAAAAAAAAAAAAAAAAAAAAAAAAAAAAAAAAAAAAAAAAAAAAAAAAAAAAAAAAAAAAAAAAAAAAAAAAAAAAAAAAAAAAAAAAAAAAAAAAAAAAAAAAAAAAAAAAAAAAAAAAAAAAAAAAAAAAAAAAAAAAAAAAAAAAAAAAAAAAAAAAAAAAAAAAAAAAAAAAAAAAAAAAAAAAAAAAAAAAAAAAAAAAAAAAAAAAAAAAAAAAAAAAAAAAAAAAAAAAAAAAAAAAAAAAAAAAAAAAAAAAAAAAAAAAAAAAAAAAAAAAAAAAAAAAAAAAAAAAAAAAAAAAAAAAAAAAAAAAAAAAAAAAAAAAAAAAAAAAAAAAAAAAAAAAAAAAAAAAAAAAAAAAAAAAAAAAAAAAAAAAAAAAAAAAAAAAAAAAAAAAAAAAAAAAAAAAAAAAAAAAAAAAAAAAAAAAAAAAAAAAAAAAAAAAAAAAAAAAAAAAAAAAAAAAAAAAAAAAAAAAAAAAAAAAAAAAAAAAAAAAAAAAAAAAAAAAAAAAAAAAAAAAAAAAAAAAAAAAAAAAAAAAAAAAAAAAAAAAAAAAAAAAAAAAAAAAAAAAAAAAAAAAAAAAAAAAAAAAAAAAAAAAAAAAAAAAAAAAAAAAAAAAAAAAAAAAAAAAAAAAAAAAAAAAAAAAAAAAAAAAAAAAAAAAAAAAAAAAAAAAAAAAAAAAAAAAAAAAAAAAAAAAAAAAAAAAAAAAAAAAAAAAAAAAAAAAAAAAAAAAAAAAAAAAAAAAAAAAAAAAAAAAAAAAAAAAAAAAAAAAAAAAAAAAAAAAAAAAAAAAAAAAAAAAAAAAAAAAAAAAAAAAAAAAAAAAAAAAAAAAAAAAAAAAAAAAAAAAAAAAAAAAAAAAAAAAAAAAAAAAAAAAAAAAAAAAAAAAAAAAAAAAAAAAAAAAAAAAAAAAAAAAAAAAAAAAAAAAAAAAAAAAAAAAAAAAAAAAAAAAAAAAAAAAAAAAAAAAAAAAAAAAAAAAAAAAAAAAAAAAAAAAAAAAAAAAAAAAAAAAAAAAAAAAAAAAAAAAAAAAAAAAAAAAAAAAAAAAAAAAAAAAAAAAAAAAAAAAAAAAAAAAAAAAAAAAAAAAAAAAAAAAAAAAAAAAAAAAAAAAAAAAAAAAAAAAAAAAAAAAAAAAAAAAAAAAAAAAAAAAAAAAAAAAAAAAAAAAAAAAAAAAAAAAAAAAAAAAAAAAAAAAAAAAAAAAAAAAAAAAAAAAAAAAAAAAAAAAAAAAAAAAAAAAAAAAAAAAAAAAAAAAAAAAAAAAAAAAAAAAAAAAAAAAAAAAAAAAAAAAAAAAAAAAAAAAAAAAAAAAAAAAAAAAAAAAAAAAAAAAAAAAAAAAAAAAAAAAAAAAAAAAAAAAAAAAAAAAAAAAAAAAAAAAAAAAAAAAAAAAAAAAAAAAAAAAAAAAAAAAAAAAAAAAAAAAAAAAAAAAAAAAAAAAAAAAAAAAAAAAAAAAAAAAAAAAAAAAAAAAAAAAAAAAAAAAAAAAAAAAAAAAAAAAAAAAAAAAAAAAAAAAAAAAAAAAAAAAAAAAAAAAAAAAAAAAAAAAAAAAAAAAAAAAAAAAAAAAAAAAAAAAAAAAAAAAAAAAAAAAAAAAAAAAAAAAAAAAAAAAAAAAAAAAAAAAAAAAAAAAAAAAAAAAAAAAAAAAAAAAAAAAAAAAAAAAAAAAAAAAAAAAAAAAAAAAAAAAAAAAAAAAAAAAAAAAAAAAAAAAAAAAAAAAAAAAAAAAAAAAAAAAAAAAAAAAAAAAAAAAAAAAAAAAAAAAAAAAAAAAAAAAAAAAAAAAAAAAAAAAAAAAAAAAAAAAAAAAAAAAAAAAAAAAAAAAAAAAAAAAAAAAAAAAAAAAAAAAAAAAAAAAAAAAAAAAxYBtAP9HAADCgW8Au4d9ALqBeQCkl5kBt4+KAWWyzgBMuNwAyod6AAAAAAAAAAAAAAAAAAAAAAAAAAAAAAAAAAAAAAAAAAAAAAAAAAAAAAAAAAAAAAAAAAAAAAAAAAAAAAAAAAAAAAAAAAAAAAAAAAAAAAAAAAAAAAAAAAAAAAAAAAAAAAAAAAAAAAAAAAAAAAAAAAAAAAAAAAAAAAAAAAAAAAAAAAAAAAAAAAAAAAAAAAAAAAAAAAAAAAAAAAAAAAAAAAAAAAAAAAAAAAAAAAAAAAAAAAAAAAAAAAAAAAAAAAAAAAAAAAAAAAAAAAAAAAAAAAAAAAAAAAAAAAAAAAAAAAAAAAAAAAAAAAAAAAAAAAAAAAAAAAAAAAAAAAAAAAAAAAAAAAAAAAAAAAAAAAAAAAAAAAAAAAAAAAAAAAAAAAAAAAAAAAAAAAAAAAAAAAAAAAAAAAAAAAAAAAAAAAAAAAAAAAAAAAAAAAAAAAAAAAAAAAAAAAAAAAAAAAAAAAAAAAAAAAAAAAAAAAAAAAAAAAAAAAAAAAAAAAAAAAAAAAAAAAAAAAAAAAAAAAAAAAAAAAAAAAAAAAAAAAAAAAAAAAAAAAAAAAAAAAAAAAAAAAAAAAAAAAAAAAAAAAAAAAAAAAAAAADHfGoAxHpoAOSReQC7fnIAwX9vANF3YgCfnKEBia/BAnXB4AM48P4CBv/+AU7czwC7k4kAyoh8AsmIfADJiHwAy4h8AN+AgAAAAAAAAAAAAAAAAAAAAAAAAAAAAAAAAAAAAAAAAAAAAAAAAAAAAAAAAAAAAAAAAAAAAAAAAAAAAAAAAAAAAAAAAAAAAAAAAAAAAAAAAAAAAAAAAAAAAAAAAAAAAAAAAAAAAAAAAAAAAAAAAAAAAAAAAAAAAAAAAAAAAAAAAAAAAAAAAAAAAAAAAAAAAAAAAAAAAAAAAAAAAAAAAAAAAAAAAAAAAAAAAAAAAAAAAAAAAAAAAAAAAAAAAAAAAAAAAAAAAAAAAAAAAAAAAAAAAAAAAAAAAAAAAAAAAAAAAAAAAAAAAAAAAAAAAAAAAAAAAAAAAAAAAAAAAAAAAAAAAAAAAAAAAAAAAAAAAAAAAAAAAAAAAAAAAAAAAAAAAAAAAAAAAAAAAAAAAAAAAAAAAAAAAAAAAAAAAAAAAAAAAAAAAAAAAAAAAAAAAAAAAAAAAAAAAAAAAAAAAAAAAAAAAAAAAAAAAAAAAAAAAAAAAAAAAAAAAAAAAAAAAAAAAAAAAAAAAAAAAAAAAAAAAAAAAAAAAAAAAAAAAAAAAAAAAAAAAAAAAADIem0AwXB3AMF6bADTgW4Axn1pAMSBaAHChGYCwIdkA72NYgOznlcBzIZ/AcqJegDLiHwA+SoWAP8AAAD/AAAB0G5bEb2IfxW0iYIAx4d8AsqIfAHKiX0AyYl9AN9tZgAAAAAAAAAAAAAAAAAAAAAAAAAAAAAAAAAAAAAAAAAAAAAAAAAAAAAAAAAAAAAAAAAAAAAAAAAAAAAAAAAAAAAAAAAAAAAAAAAAAAAAAAAAAAAAAAAAAAAAAAAAAAAAAAAAAAAAAAAAAAAAAAAAAAAAAAAAAAAAAAAAAAAAAAAAAAAAAAAAAAAAAAAAAAAAAAAAAAAAAAAAAAAAAAAAAAAAAAAAAAAAAAAAAAAAAAAAAAAAAAAAAAAAAAAAAAAAAAAAAAAAAAAAAAAAAAAAAAAAAAAAAAAAAAAAAAAAAAAAAAAAAAAAAAAAAAAAAAAAAAAAAAAAAAAAAAAAAAAAAAAAAAAAAAAAAAAAAAAAAAAAAAAAAAAAAAAAAAAAAAAAAAAAAAAAAAAAAAAAAAAAAAAAAAAAAAAAAAAAAAAAAAAAAAAAAAAAAAAAAAAAAAAAAAAAAAAAAAAAAAAAAAAAAAAAAAAAAAAAAAAAAAAAAAAAAAAAAAAAAAAAAAAAAAAAAAAAAAAAAAAAAMd5awDGgGkAx3ptAMR/aADGfWoAxIBoAcKEZwLAhmYCvopjA8eLdALLiokAzIqIAMaMfADZWHwA6EGEALZ7ogH7SEECq5GOG5WlsTqGssVXfLvUd3TB3pJnzO+qq52frdp9akP/YDgAzId5AciKfQClo4EApaOBAAAAAAAAAAAAAAAAAAAAAAAAAAAAAAAAAAAAAAAAAAAAAAAAAAAAAAAAAAAAAAAAAAAAAAAAAAAAAAAAAAAAAAAAAAAAAAAAAAAAAAAAAAAAAAAAAAAAAAAAAAAAAAAAAAAAAAAAAAAAAAAAAAAAAAAAAAAAAAAAAAAAAAAAAAAAAAAAAAAAAAAAAAAAAAAAAAAAAAAAAAAAAAAAAAAAAAAAAAAAAAAAAAAAAAAAAAAAAAAAAAAAAAAAAAAAAAAAAAAAAAAAAAAAAAAAAAAAAAAAAAAAAAAAAAAAAAAAAAAAAAAAAAAAAAAAAAAAAAAAAAAAAAAAAAAAAAAAAAAAAAAAAAAAAAAAAAAAAAAAAAAAAAAAAAAAAAAAAAAAAAAAAAAAAAAAAAAAAAAAAAAAAAAAAAAAAAAAAAAAAAAAAAAAAAAAAAAAAAAAAAAAAAAAAAAAAAAAAAAAAAAAAAAAAAAAAAAAAAAAAAAAAAAAAAAAAAAAAMh7bAD/GAAAznJfAKeZnQCzi4cAoJ2hAYixxAKwlpMCwYxcArOaXAG3l1wAu5JhAN9ZfQDKdXEA1GR/ANpdgATIfGwUw4JnLcGFZkvAhmVqvohki8mCbY56vtmxX9T7u2DT+8Bc1/++XNf+ulTd/7Wpn6K20oN0vsmKf2jCinYFxYNlAs2IfgHQhn8AzId4AMyGeQAAAAAAAAAAAAAAAAAAAAAAAAAAAAAAAAAAAAAAAAAAAAAAAAAAAAAAAAAAAAAAAAAAAAAAAAAAAAAAAAAAAAAAAAAAAAAAAAAAAAAAAAAAAAAAAAAAAAAAAAAAAAAAAAAAAAAAAAAAAAAAAAAAAAAAAAAAAAAAAAAAAAAAAAAAAAAAAAAAAAAAAAAAAAAAAAAAAAAAAAAAAAAAAAAAAAAAAAAAAAAAAAAAAAAAAAAAAAAAAAAAAAAAAAAAAAAAAAAAAAAAAAAAAAAAAAAAAAAAAAAAAAAAAAAAAAAAAAAAAAAAAAAAAAAAAAAAAAAAAAAAAAAAAAAAAAAAAAAAAAAAAAAAAAAAAAAAAAAAAAAAAAAAAAAAAAAAAAAAAAAAAAAAAAAAAAAAAAAAAAAAAAAAAAAAAAAAAAAAAAAAAAAAAAAAAAAAAAAAAAAAAAAAAAAAAAAAAAAAAAAAAAAAAAAAAAAAAJyhqADFfW8AyHtoAIG3zgJuyOgDNvX/AhX//gEX//8AJ/z/ANVdegBq/yEA/wCiAMtzcAnDgmgfwYRnOr+HZV7IhnJZwIdkjr6KYq6+i2O6vYtiv72MY8C8jWG6yIVwv4W50eRh1PrCXNf/rl7V/rFf1PyyWNn/s6meorLTgnOvy4h9xcyHe1jLiXwAy4h8BMyHegLNh3wAzYd8AMuHeQAAAAAAAAAAAAAAAAAAAAAAAAAAAAAAAAAAAAAAAAAAAAAAAAAAAAAAAAAAAAAAAAAAAAAAAAAAAAAAAAAAAAAAAAAAAAAAAAAAAAAAAAAAAAAAAAAAAAAAAAAAAAAAAAAAAAAAAAAAAAAAAAAAAAAAAAAAAAAAAAAAAAAAAAAAAAAAAAAAAAAAAAAAAAAAAAAAAAAAAAAAAAAAAAAAAAAAAAAAAAAAAAAAAAAAAAAAAAAAAAAAAAAAAAAAAAAAAAAAAAAAAAAAAAAAAAAAAAAAAAAAAAAAAAAAAAAAAAAAAAAAAAAAAAAAAAAAAAAAAAAAAAAAAAAAAAAAAAAAAAAAAAAAAAAAAAAAAAAAAAAAAAAAAAAAAAAAAAAAAAAAAAAAAAAAAAAAAAAAAAAAAAAAAAAAAAAAAAAAAAAAAAAAAAAAAAAAAAAAAAAAAAAAAAAAAAAAAAAAAAAAAAAAAAAAAAAAAAAAAAAAAAAAAAAAAPsiEgD/AAAA/wAAAsxzYg6TqLUpspSPM8KGYme/iWSMvopjo76LY7O+i2O9vYxhv8iJdcTHiXLcvYxiubyNYa+9jGKxvYxisb2MYbHIhnK1hrjP5XXF4+1ozvHEWtn/rV3W/bFW2/+wq52hstKCc7TLiHzEyIVzjMODaEzQiH4T0Id+AMuHeQL/ydcALAAAAMWAcQAAAAAAAAAAAAAAAAAAAAAAAAAAAAAAAAAAAAAAAAAAAAAAAAAAAAAAAAAAAAAAAAAAAAAAAAAAAAAAAAAAAAAAAAAAAAAAAAAAAAAAAAAAAAAAAAAAAAAAAAAAAAAAAAAAAAAAAAAAAAAAAAAAAAAAAAAAAAAAAAAAAAAAAAAAAAAAAAAAAAAAAAAAAAAAAAAAAAAAAAAAAAAAAAAAAAAAAAAAAAAAAAAAAAAAAAAAAAAAAAAAAAAAAAAAAAAAAAAAAAAAAAAAAAAAAAAAAAAAAAAAAAAAAAAAAAAAAAAAAAAAAAAAAAAAAAAAAAAAAAAAAAAAAAAAAAAAAAAAAAAAAAAAAAAAAAAAAAAAAAAAAAAAAAAAAAAAAAAAAAAAAAAAAAAAAAAAAAAAAAAAAAAAAAAAAAAAAAAAAAAAAAAAAAAAAAAAAAAAAAAAAAAAAAAAAAAAAAAAAAAAAACfnaIA3GZKANRvVwGLrr81frnRWXbA3Xdvx+aSa8rrqV7U/barnJ3DxYdg2LuOY7q9jGK2vYxitL2MYrG9jGGvyIh1t8qHeOnIiHTjwItmvL2MYbG9jGOyvYxhrseGdLWEutLkdsXi7HDI59Vi0fe6aczuxmvK6NWyl5LdzYVx48mIeezDimzTw4hqwM2GfZ3Kh3gkzIZ7AMyGegHLhnEAy4RvAMyEcAAAAAAAAAAAAAAAAAAAAAAAAAAAAAAAAAAAAAAAAAAAAAAAAAAAAAAAAAAAAAAAAAAAAAAAAAAAAAAAAAAAAAAAAAAAAAAAAAAAAAAAAAAAAAAAAAAAAAAAAAAAAAAAAAAAAAAAAAAAAAAAAAAAAAAAAAAAAAAAAAAAAAAAAAAAAAAAAAAAAAAAAAAAAAAAAAAAAAAAAAAAAAAAAAAAAAAAAAAAAAAAAAAAAAAAAAAAAAAAAAAAAAAAAAAAAAAAAAAAAAAAAAAAAAAAAAAAAAAAAAAAAAAAAAAAAAAAAAAAAAAAAAAAAAAAAAAAAAAAAAAAAAAAAAAAAAAAAAAAAAAAAAAAAAAAAAAAAAAAAAAAAAAAAAAAAAAAAAAAAAAAAAAAAAAAAAAAAAAAAAAAAAAAAAAAAAAAAAAAAAAAAAAAAAAAAAAAAAAAAAAAAAAAAAAAAAAAAAAAAI2xwAGjoKQAqpubEGnM77Nd1v/DXNf/vVvY/7pc1/22Vdz/sKycnLzGhmPqv4xo172MY7a9jGKzvYxis72MYa/JiHW4yYh35MqId+3EiWzOvIxgsL2MY7y/imLIxod01IW4zfN3w9/3c8Xe8G/J5uhyx+Txb8jg7bWWjenNhXHoyYl57MKLbczCiWmrzYZ9u8yHerXLh3lE2ISJAM2IfAPMhnYAz4Z4AM6HeQDMhXYAAAAAAAAAAAAAAAAAAAAAAAAAAAAAAAAAAAAAAAAAAAAAAAAAAAAAAAAAAAAAAAAAAAAAAAAAAAAAAAAAAAAAAAAAAAAAAAAAAAAAAAAAAAAAAAAAAAAAAAAAAAAAAAAAAAAAAAAAAAAAAAAAAAAAAAAAAAAAAAAAAAAAAAAAAAAAAAAAAAAAAAAAAAAAAAAAAAAAAAAAAAAAAAAAAAAAAAAAAAAAAAAAAAAAAAAAAAAAAAAAAAAAAAAAAAAAAAAAAAAAAAAAAAAAAAAAAAAAAAAAAAAAAAAAAAAAAAAAAAAAAAAAoCEIAKAgCACgIAgAoCEHA6AhBwOgIQcBoCEHAKAhBwCkHwQAAAAAAAAAAAAAAAAAAAAAAAAAAAAAAAAAAAAAAAAAAAAAAAAAAAAAAAAAAAAAAAAAAAAAAAAAAAAAAAAAAAAAAAAAAAAAAAAAjq++AZylrQCjn6MVZNH1q1vY/7Je1v6wXtb+sV/V/LNY2v+xrpuavcaGY+fAi2rtv4tmy7yMYay9jGK1votiusiHdMnJiHbvyYh288KKa+q9jGXfvY1n6L2MYuvEiXXuhLnO+X+91PmItcPvk6235aShpvWtmZb2v46A6siJd+bKh3fswYxtzcKJaa7Nh32uzId7ucyGe5PSmIcA2KqTAMqHegLLh3oBzId6AMuHegDJh3gAAAAAAAAAAAAAAAAAAAAAAAAAAAAAAAAAAAAAAAAAAAAAAAAAAAAAAAAAAAAAAAAAAAAAAAAAAAAAAAAAAAAAAAAAAAAAAAAAAAAAAAAAAAAAAAAAAAAAAAAAAAAAAAAAAAAAAAAAAAAAAAAAAAAAAAAAAAAAAAAAAAAAAAAAAAAAAAAAAAAAAAAAAAAAAAAAAAAAAAAAAAAAAAAAAAAAAAAAAAAAAAAAAAAAAAAAAAAAAAAAAAAAAAAAAAAAAAAAAAAAAAAAAAAAAAAAAAAAAAAAAAAAAAAAAAAAAAAAAAAAAAAAAAAAAAAAAACgIQcAoCEHAKAhBwKgIQcBoCEHAKAhBwAAAAAAAAAAAAAAAAAAAAAAAAAAAAAAAAAAAAAAAAAAAAAAAAAAAAAAAAAAAAAAAAAAAAAAAAAAAAAAAAAAAAAAAAAAAAAAAACSq7gBnKOrAKSdoRpl0PWwW9f/tF3W/7Jd1v+zXdb9sVfb/6+umpjCxoZj7MCLau+/i2bhv4pk0r6LZOC+jGLnx4hy7smJdfnKiXT6xYhm8MSHYOfJhWT1yIRj8MeHcui0lZH3tJSR+66Xk/WlnqDxnKav+pGuvf6/j4b7x4p468aLfOvBi27Ow4hqtMyGe7/Lh3nLyIZ0uMGFZ4XMhnhTwXtxAMiCdQHMhXYBzIR2AMuEdQAAAAAAAAAAAAAAAAAAAAAAAAAAAAAAAAAAAAAAAAAAAAAAAAAAAAAAAAAAAAAAAAAAAAAAAAAAAAAAAAAAAAAAAAAAAAAAAAAAAAAAAAAAAAAAAAAAAAAAAAAAAAAAAAAAAAAAAAAAAAAAAAAAAAAAAAAAAAAAAAAAAAAAAAAAAAAAAAAAAAAAAAAAAAAAAAAAAAAAAAAAAAAAAAAAAAAAAAAAAAAAAAAAAAAAAAAAAAAAAAAAAAAAAAAAAAAAAAAAAAAAAAAAAAAAAAAAAAAAAAAAAAAAAAAAAAAAAAAAAKAhCACgIAgAoCAJBqAhB1GgIQdToCEHCKAfBgCgIQcBqDoAAKEjBgAAAAAAAAAAAAAAAAAAAAAAAAAAAAAAAAAAAAAAAAAAAAAAAAAAAAAAAAAAAAAAAAAAAAAAAAAAAAAAAAAAAAAAAAAAAJSotAKcoqoAo5ufHmXQ9LJc1/+0X9X9s17V/rFsyunObsnl3rKXjejFiGL5v4xo+r6MZfK/i2Tqv4tm9r+LZu3IiHPozYVy98mIePq9jH7xspSO7aidofmbp7H9vI+G+I6xwPd9vtb8eMHc+3XD4Pl2w+D8e8Da/b+Ph/3OhXT6xYt89b6Ma+jDiWrkyod36cmIdu7GiXHgv4plusyGe8DMh3t4yYd4CsmIeQDLh3oBAAAAAAAAAAAAAAAAAAAAAAAAAAAAAAAAAAAAAAAAAAAAAAAAAAAAAAAAAAAAAAAAAAAAAAAAAAAAAAAAAAAAAAAAAAAAAAAAAAAAAAAAAAAAAAAAAAAAAAAAAAAAAAAAAAAAAAAAAAAAAAAAAAAAAAAAAAAAAAAAAAAAAAAAAAAAAAAAAAAAAAAAAAAAAAAAAAAAAAAAAAAAAAAAAAAAAAAAAAAAAAAAAAAAAAAAAAAAAAAAAAAAAAAAAAAAAAAAAAAAAAAAAAAAAAAAAAAAAAAAAAAAAAAAAAAAAAAAAAAAAAAAoCEHAaAhBwCgIQcPoCEH4qAhB/agIQe5oSAHB6IgBwChIQcBoCEHAAAAAAAAAAAAAAAAAAAAAAAAAAAAAAAAAAAAAAAAAAAAAAAAAAAAAAAAAAAAAAAAAAAAAAAAAAAAAAAAAAAAAAAAAAAAlaaxApygqACkmZ4hZND1tFfa/7RX2/60U97/sWrM591yxt7stpWJ68eGZ/jFiW/5xIht8MaGbunFhm/4xoZs+8WJePOTrbn3hrfM/X681fp4wdz4d8Lf/XrA2/24k47+grrQ/HjC3Pp7v9X6fL7V+32+1/1/vdP+wI+D/MuHcvnJiXb8wopq88SJbOfKiHfnyoh36saJcdm/imWuzIZ7sMyHe8DMh3qWy4RzDsuEdADLhXYBAAAAAAAAAAAAAAAAAAAAAAAAAAAAAAAAAAAAAAAAAAAAAAAAAAAAAAAAAAAAAAAAAAAAAAAAAAAAAAAAAAAAAAAAAAAAAAAAAAAAAAAAAAAAAAAAAAAAAAAAAAAAAAAAAAAAAAAAAAAAAAAAAAAAAAAAAAAAAAAAAAAAAAAAAAAAAAAAAAAAAAAAAAAAAAAAAAAAAAAAAAAAAAAAAAAAAAAAAAAAAAAAAAAAAAAAAAAAAAAAAAAAAAAAAAAAAAAAAAAAAAAAAAAAAAAAAAAAAAAAAAAAAAAAAAAAAAAAAACgIQcAnh8DAJ0eAQCgIQcroCAGAKAhB4mgIQd8oCEHAKAhBwOgIgcAoCIHAAAAAAAAAAAAAAAAAAAAAAAAAAAAAAAAAAAAAAAAAAAAAAAAAAAAAAAAAAAAAAAAAAAAAAAAAAAAAAAAAAAAAACZoqoCnZ+lAKWYmSZqy+21a8ztrn+81LCQr76ypZ6e3q2Yk+3Bi3vsxodv+MaHbf3DiGr5wolp+MGKaP3DiWX9wYx//nu/2ft4w9z6er/X+ny+1vp9vtb9gLzS/riTjP2Dus39e8DZ/nnA0/p5wdb4e8DZ/H+91P3BjoP8zIZz98qHefvIhXL9yIZx9MmJdefJiHfqxolx2r+KZbHMhnuzzId7sMyHerrKg3Uly4R1AMuEdgIAAAAAoCIHAKAgBwCgIQcAoCEHAqAhBwKgIQcCoCEHAqAhBwGgIQcAoCEHAAAAAACgIAYAoCEHAKAhBwCgIQcBoCEHA6AhBwGgIQcAoCEHAKEgBwCiIQcAoCEHA6AhBwSgIQcDoCEHAaAiCACgIQcCoCEHAqAhBwKhIQcAoCEHAqAhBwKgIQcCoCEHAqAhBwGgIQcBoCEHAqAhBwKgIQcCoCEHAqAhBwCgIQcAoCEHAaAhBwKgIQcCoCEHAaAhBwGgIQcCoCEHAqAhBwKgIQcCoCEHAqAhBwCgIQcAoCEHAKEhCAChIQgAoSEIAKAhCAGfIQgAnyEICKAhB6ugIQcToCEHAKAhBwGhIQgAAAAAAAAAAAAAAAAAAAAAAAAAAAAAAAAAAAAAAAAAAAAAAAAAAAAAAAAAAAAAAAAAAAAAAAAAAAAAAAAAAAAAALKQjAGyj4oAtYyFFqmanLCpm57ToaGn1Zeptd6NsL/zhrXI+cCMfvnBimb6v4xp+sCKZ/vBimf5wItn/cOJZf7AjYD9gLzT/ny/1v15wNP5er/W+XvA2f2AvtP9t5OM/IK6z/17wNn+fb7U/ny+1fp8v9b8f7zQ/sCOgf3MhnP8yYh3/sSJa/7HiXD+y4d49cmIde3GinDav4plscyGe7PMh3u0zId6scqDdB7Kg3UAy4R2AQAAAAAAAAAAAAAAAAAAAAAAAAAAAAAAAAAAAAAAAAAAAAAAAAAAAAAAAAAAoiEHAKAhBwCgIQcAoCEHAaAhBwGgIQcAoCEHAKEgBwChIQgAoSAIAKAhBwKkIQoAoCEIAKAhBwCfIQcBoCEHAaAhBwCgIQcAoSIIAAAAAAAAAAAAAAAAAAAAAAAAAAAAAAAAAAAAAAAAAAAAAAAAAAAAAAAAAAAAAAAAAAAAAAAAAAAAAAAAAAAAAAAAAAAAAAAAAAAAAAAAAAAAAAAAAAAAAAAAAAAAAAAAAAAAAAAAAAAAnyEGAJ4hAgCeIAEAoCEHAqAhBwSgIQcAoCEHcKAhB2SgIQcAoCEHA58gBgCiIgkAAAAAAAAAAAAAAAAAAAAAAAAAAAAAAAAAAAAAAAAAAAAAAAAAAAAAAAAAAAAAAAAAAAAAAAAAAAAAAAAAlqSvApyfpwCimp4nasvtumnN79Zyx+Xucsfl7XXD4Pd7vtf5wI1/+cSIZv3Ai2r7v4tl+sCKZvq+i2b9wYli/b2PgP1+vdX9fMDY/nu/1Px7v9b4fL/Y/IG70P64k4z9grrP/nrB2v54wdf/d8Pc/nTF3v54wtT9v49//suGcv3JiXf+xIlr/seJcPzLh3n2yod39MOKbNO+i2SxzIZ7tMyHe7TMh3qwyoN0GsqDdQDKhHYBAAAAAKAhBwCgIAcBoCEHAKAhBzCgIQc6oCEHJaAhBzygIQcVoCEHAKAhBwGgIQcAoCEHAKAhBwKhIAYAoCEGGKAhB1SgIQcRoCEHAKAhBwGkHwUApR4FAaAhBzigIQdnoCEHU6AhCAqgIggGoCEHKaAhBy2gIQc6oSEHC6AhBzugIQcwoCEHI6AhB0CgIQceoCEHFaAhB0KgIQcloCEHLKAhB0CgIQcMoCEHAKAhBxSgIQcqoCEHNqAhByigIQcYoCEHRqAhByygIQcjoCEHOaAhBzygIQcDoCEHAKAhBwAAAAAAAAAAAAAAAACgIQcAoCEHAqAhBwCgIQc5oCEHuaAhBQCgIQUBoCEIAKAgCAAAAAAAAAAAAAAAAAAAAAAAAAAAAAAAAAAAAAAAAAAAAAAAAAAAAAAAAAAAAAAAAAAAAAAAAAAAAAAAAACRqbYClaawAJuhqSxk0PO5Wdn/rWrN78dxx+bYdcPc63nA1u2+jn3vw4pl+MGLafu/i2X6v4tm98CKZ/zEiGT9vo+E/X+81f1+vtb+e7/U/nrA1/52w9v9esHS/raVi/5/vNP+gL3T/4q0v/6Xq7P+pKCl/q+Xk/7CjXv7yYl1+sqIdfzDiWv7xolw98qId+jJiHfpxodx1sOHaq7Mh3uwzId7tcyHeq7Jg3UWyoN2AMqEdgEAAAAAoCEHAKEhBwGhIQcAoCEHSqAhB7GgIQfvoCEHfKAhByGgIQcAoCEHAaAhBwCgIQcCnyEHAKAhBxygIQfgoCEH/aAhBx+gIQcAoCEHBaAhBwCgIQeCoCEH/6AhB+qgIQfRoCEHqaAhBzmgIQf3oCEH1KAhB1GgIgcToCEHWqAhB9GgIQf/oCEHlaAhByigIQceoCEHhaAhB/ugIQfhoCEHZ6AiBxSgIQcAoCEHW6AhB/+gIQeuoCEHM6AhByqgIQeCoCEH3qAhB/+gIQetoCEHYKAhBwagIQcAoCEHAAAAAAAAAAAAnyQDAKAhBwCgIQcEoCEHAKAhB3WgIQf/oCEHNKAhBwCgIQcCoCEHAAAAAAAAAAAAAAAAAAAAAAAAAAAAAAAAAAAAAAAAAAAAAAAAAAAAAAAAAAAAAAAAAAAAAAAAAAAAAAAAAI+rugKUqLQAmaOtLGXP87pb1/+yXNf/sFzW/rFvx+PeeMHZ6L+Nfu3DiWb5wYtp+8CKZ/zAimf7voxn/cKKYv66k4X+d8Pe/njC3P96wNL+g7rN/o2yw/6bqKz9v45+/LOVkP22k43/spWO/quamv6go6r+lay3/sKNgP3Gi3n4x4p5+sOJa/vHiHH3y4d57MuHePDIhnPoxYZu2cuHeMXLiHqxzId7q8mDdhLKhHcAyoR4AQAAAAAAAAAAAAAAAKAhBwOgIQcAoCEHRKAhB8qgIgcAnyMGAaAgBwChIQcAoCEHAZwbBQChIgcHoCEHwqAhB/+gIQfqoCEIHaAhCACkGwAAoh8FBKAhB+egIQfWoCMGCKAiBwCgIAYfoCEHlqAhB/+gIQeaoCEHAKAhBwegIQcAoCEHk6AhB/+gIgcfoCEHAKEgBwChIQcJoCEH9qAhB7qgIQcAoCEHBqAhBwCgIQdMoCEH/6AhB06gIQcAoCEHB6AhBwCgIQehoCEH/6AhBzSgIQcAoCEHAwAAAAAAAAAAAAAAAAAAAAChIAYAoCEHAJ4jBQCaJwAAoCEHz6AhB/6gIQeOoCEGAKAhBgOgIAoAoCIHAAAAAAAAAAAAAAAAAAAAAAAAAAAAAAAAAAAAAAAAAAAAAAAAAAAAAAAAAAAAAAAAAAAAAAAAAAAAjK69ApCquACVprItZc/0u1zX/7Jf1PyzX9T8tHHG4t57vtT2vo58+sGLZv2/jWr+vYxl/sGKZf3BimL+xode/cCOff2joqj+sZiV/7uQgv7FiHj+y4Ry/s+CbP7EiXn9jLLB/YC80v56wNn+d8Le/nbE4P57wNn+wo2D/s2Gdf3Ei3v8v4to+8WIbv3KiXb5yol2+sWJbvXCimrty4d67sqHeNfLh3mny4V7C8uGewDLhnkBAAAAAKAhBwCgIQcAoCEHAqAhBwCgIQc+oCEHu6AhBwCgIQcDoCEHAKEiBwCfIQcDnyEHAKAhB5ugIQf/oCEHiKAhB7OgIQcpoCEHAKAhBwCgIQcMoCEH/aAhB5WgIQcAoCEHB6AhBwCgIQcnoCEH/6AhB5agIQcAoCEHCKAhBwCgIQeLoCEH/6AhBxmgIAcAoB0GAaAiBwegIQftoCEHsKAhBwCgIQcHoCEHAKAhB0egIQf/oCEHSaAhBwCgIQcIoCEHAKAhB5qgIQf/oCEGLqAhBgCgIQcCoCEHAKAhBwAAAAAAAAAAAKAhBwCgIQcDoCEHAKAhB0GgIQf/oCEHYKAhB4ugIQcwoCEHAKAhBwGgIQcAAAAAAAAAAAAAAAAAAAAAAAAAAAAAAAAAAAAAAAAAAAAAAAAAAAAAAAAAAAAAAAAAAAAAAAAAAACIsMECjK28AJGpti1i0vW7Vtz/slXd/7NW2/22bMrl43nA1Oq/jXn2yoVi/sqFZ/3HhWj9xYdy/b2Nff6zlYz+xYh1/MuEZf3Mg23/y4Rt/smGcP7HiHP+yYZy/sKKf/59vtb+ecLb/ny/1P5+vdT/fb7W/4C80f/BjoD+yody/cmIdv7Bimn6xYpu+cqJdvjJiXb5xYhu7sKKatnMh3vRy4d60suHeZ7FhW0ExoVwAMqGdwEAAAAAAAAAAKYmDQCgIQcCoCEHAKAhBzigIQe0oCEHAKAhBwKiIwcAoCEHBKAhBwCgIQdxoCEH/6AhB7GkIQUAoCEHuqAhBiegIQcAoCEHAKAhBwygIQf/oCEHjKAhBwCgIQcFoCEHAKAhBw2gIQf/oCEHlKAhBwCgIQcIoCEHAKAhB4WgIQf/oCEIEqAhBwCaEwEAnRkFAaAhB+qgIQeroCEHAKAhBwagIQcAoCEHRaAhB/+gIQdBoCEHAKAhBwegIQcAoCEHmaAhB/+gIQcqoCEHAKAhBwOgIQcBnyAIAJ4gBwCfIQcAoSAGAKAhBwOgIQcAoCEHqqAhB/m3EQAAoCEHUaAhB4mgIQcAoCEHA6AjBwCfIgcAAAAAAAAAAAAAAAAAAAAAAAAAAAAAAAAAAAAAAAAAAAAAAAAAAAAAAAAAAAAAAAAAAAAAAIyuvgKNrr0Ak6m1Mm3I6bp0xOGtiLTHr5ulrrWtl5LltJKI68GLfe2smpr6n6Ss/pKtu/2Htcn9fb7W/n+90/7DjID+xYpt/sCMa/7FiHD/x4dy/sWIcf/Hhm3/wIx+/oC80v58v9f/esDS/Xu/1P58wNj+f73T/sGOgf7MhnT9yoh5/siFcv7Ih3L4yYl16sqId+3EiG3VwIxnrs2HfK/Mh3uyzId7p8uJeQzMiXkAzIh6AQAAAAAAAAAAAAAAAKAhBwKgIQcAoCEHN6AhB7GgIQcAoCEHAqAhBwSgIQcAoCEHR6AhB/+gIQfZoCEHFKIhBwCgIQe7oCEHJqAhBwCgIQcAoCEHDKAhB/+gIQeMoCEHAKAhBwWgIQcAoCEHCqAhB/ugIQeSoCEHAKAhBwigIQcAoCEHhKAhB/+gIQgSoCEIAKMTBQChGwgCoCEH6aAhB6qgIQcAoCEHBqAhBwCgIQdIoCEH/6AhBz+gIQcAoCEHB6AhBwCgIQeYoCEH/6AiByqgIQcAoCEHAp0hCwCgIQcDoCEHAqAhBwCgIQcCoCEHAKAhBxugIQf/oCEHl6AhBwCgIQYLoCEHtKAhBxugIQcAoCEHAaAhBwAAAAAAAAAAAAAAAAAAAAAAAAAAAAAAAAAAAAAAAAAAAAAAAAAAAAAAAAAAAAAAAAAAAAAAtJGMArWQigC1j4kir5WUvK2YmM+ioabTlqq13ouxwfWHtsj4s5aT+XjB2/p1xeD8eMHb/nu/2f16wNn+hbjJ/8WKfP/Kh3T/xYpw/r6LZP7Bimj+wYxp/sOKZf6/jn/+f73U/n2/1/99vtT+fb7U/Hy/1v2AvND+wY2A/cuGc/3JiHf+xIlr/ciHcv3Lh3jzyYl27cSJbdLAi2ewzYd8tMyHe7fMh3qmy4t2C8uLdwDMiXkBAAAAAAAAAAAAAAAAoCEHAqAhBwCgIQc3oCEHsaAhBwCgIQcEoCEHAKAhByOgIQfqoCEH+KAhBzKgIQcArSEGAKAhB7mgIQcmoCEHAKAgBgCgIAcPoCEH/6AhB4ygIQcAoCEHBaAiCACgIggMoCEH/KAhB5OgIQcAoCEHCKAhBwCgIQeGoCEH/6AhBxOgIAgAoCEGA6AhCAegIQfyoCEHrqAhBwCgIQcLoCEHAKAhB1OgIQf/oCEHPaAhBwCgIQcHoCEHAKAhB5igIQf/nyIHKKEdCgSgIQcloCEHEaEiCACgIQcBoCAHAaAhBwSgIQcAoCEHeKAhB/+gIQc3oCEHAKAhBwCgIQeDoCEHgKAhBwCgIQcFoCEHAKAhBwAAAAAAAAAAAAAAAAAAAAAAAAAAAAAAAAAAAAAAAAAAAAAAAAAAAAAAAAAAAAAAAACDt8wChrTIAIqxwypnzvK/bMvt3HLH5e9yx+XudcPf+X680/myl5T6gLzU/Xu/1/x6v9P8fL7T/nnB1v6EuMb+xYt4/smIcv7IiXf/wItq/sCLZv3Bi2j9xIll/r+NgP5/vNT+e8DZ/3jB2P53wtz+dMXe/XjB1P3Ajn7+y4dy/cmJdv7Eimv9yIdx/MuHefbKh3bzwoppzcCLZ7HNh3yzzId7t8yHeqXKiXUKyol1AMuIeAEAAAAAAAAAAAAAAACgIQcCoCEHAKAhBzegIQexoCEHAKEhBwKfIQYJoCEHx6AhB/+gIQdZoCEHAKEhBwSjIQcAoCEHuqAhByagIQcAnyEHAKAhBxWgIQf/oCEHi6AhBwCgIQcFoCEHAKAhBxCgIQf/oCEHkqAhBwCgIQcIoCEHAKAhB4qgIQf/oCEHXaAhBwCgIQcAoCEHOKAhB/+gIQfgoCEHHaEhCACgIQcAoCEHkaAhB/+gIQcsoCEHAKAhBwagIQcAoCEHmKAhB/+fIgcioCEHWaAhB5egIQevoCEHpKAhBxmgIQcAoiAGAKEgBgagIQfioCEH0J4hCACfIQcCoCEHAKAhByKgIQfJoCIHDqAiBwCgIQcBAAAAAAAAAAAAAAAAAAAAAAAAAAAAAAAAAAAAAAAAAAAAAAAAAAAAAAAAAAAAAAAAAAAAAHy91gJ+u9MAgbnPL2HT+Lpb1/+vbMvszHHH5dl1w9ztfL7S7a+ZlfB8v9j5fMDY+3nA1fl6v9X5ecHY/oe3x/7HiXr+yohz/siJdv/Bi2r+wYtl/b6MZf3BimD+vJCB/nvA2f6AvdL/ibXB/partf6ioqf+rZmV/sOMevvJiXX6yoh1/cOKavrHiHH2yoh358qId+rGh3DTxIdsrcyHfLDMh3u4zId6o8mGcgnJhnMAy4Z3AQAAAAAAAAAAAAAAAKAhBwKgIQcAoCEHN6AhB7KgIQYAoSEIAKAhB56gIQf/oCEHhqAhBwCgIQcEpyEGAKQhBwCgIQe6oCEHKKAhBwCgIQdGoCEHr6AhB/+gIQeUoCEHAKAhBwCgIQdBoCEHraAhB/+gIQecoCEHAKAhBxGgIQeBoCEH46AhB/mgIQeSoCEHqKAhB56gIQfyoCEH86AhB1OgIQehoCEHn6AhB7igIQf/oCEHsaEiBwCiIgcBoCEHBKAhBwCgIQeYoCEH/58iByqfIQcAniEHAogVBQCgIQenoCEH7aAhBx2gIQkGoCEHjaAhB/+gIQe6oCEHJaEfBwKgIQYEoCEHP6AhB+ugIQeloCAHEKAgBwCgIQcBAAAAAAAAAAAAAAAAAAAAAAAAAAAAAAAAAAAAAAAAAAAAAAAAAAAAAAAAAAAAAAAAeMHcAnnA2gB9vdUvYtL5vFzX/7Jb2P+vXdX8s3DH4uJ8v9Xnr5mX7ny/2Pp9vtf8fL3U/Hy+1fp3wtn9hrjG/siJdv7IiXP+x4l2/8CMaP7Cimf+w4lr/sSHav3Einf8sZeU/rWTjv+xlo/+qpqa/p6kq/6aqbL+xIt9/MSMefjIinj7w4pr+seHcvbLh3nry4d48MiGc+XGhW/Wy4d5wcyIe7LMhnqhxn9rCMeAbQDKhHQBAAAAAAAAAAAAAAAAoCEHAqAhBwCgIQc3oCEHtaAhBwCgIQd0oCEH/6AhB7KmKREBnyAGAqAhBwGmIQgAoyEHAKAhB7qgIQcmoCEHAKAhBxGgIQcsoCEHXKAhB1agIQcAoCEIAKAhBw+gIQcsoCEHWqAhB1mgIQcAoCIIBKAhByKgIQc7oCEHc6AhBxSgIQdWoCEHsaAhB5egIQcvoCEHAKAhBxegIQeGoCEHr6AhB26fIAcKnyAHAJ8hBwGgIQcEoCEHAKAhB5mgIQf/oCEHKqAhBwCgIQcGoCEHAKAhBxigIQf/oCEHoKEgCB6gIQd4oCEHXKAhB2WgIQdWoCYIAKAhBwigIQdnoCEHYKAhB3CgIQcxoCEHAKAhBwIAAAAAAAAAAAAAAAAAAAAAAAAAAAAAAAAAAAAAAAAAAAAAAAAAAAAAAAAAAAAAAAB3wt8CeMLdAIC70zVh0/q8Xdb/sV/V/bNg1Pu0ccbi4YG7zfatmpj5d8Pd/XfD3f51xNr+ecDZ/XrA1f6QsLf9yIh1/cqHdv7Ih3b/xYdv/seGbv7Gh3D+yIZs/r+OgPyKs8P9gbvR/3rA2f53wt3+dMXi/oO70P7Iinz+y4d2/cSLe/y/i2j8xodu/MqIdvjKiXb6xIlt9MOJbO3Mh3vsyod41cuGeJrHb2IEyHNlAMmAcgEAAAAAoRwFAKAlCACgIQcCoCEHAKAhBzqgIQemoCEHPKAhB/+gIQfdoCAHFqAgBwCgIQcCoCIHAKIcBwChHwcAoCEHvqAhByigIQcAoCEHAqEhBwCdIQQAAAAAAAAAAAAAAAAAAAAAAAAAAAAAAAAAAAAAAAAAAAAAAAAAoCEHAKAhBwCgIQcAoCEHAqAgBwCgIQcAoCEHAKAhBwCgIQcDoCEHAaAhBwCgIQcAoCEHAKAhBwGgIQcBoCEHAKAhBwSgIQcAoCEHm6AhB/+gIQctoCEHAKAhBwOgHgoBoCIHCqAhB+SgIQfooCEHCKAhBwCgIQcBAAAAAAAAAAAAAAAAAAAAAAAAAAAAAAAAAAAAAAAAAAAAAAAAAAAAAAAAAAAAAAAAAAAAAAAAAAAAAAAAAAAAAAAAAAAAAAAAAAAAAAAAAAAAAAAAAAAAAHbD4AJ2w+AAgrnPO1/U+71Z2f+yVtz/s1fb/LdqzOjke8DS7LCZk/iMs8T+mqiy/qWenf2ylI79vI19/sOIcv7FiXX8w4ps/cOJav/Bimf+wotn/sCLaP7GiWX+upOL/njB3P57wNj+fL7U/3691P97v9j/ibXG/8eKef7KiHT9yIl1/r+LZ/rFiW75yYl2+MmJdvnEiW3tw4hs2cyHe9HLh3rTy4d4kf///wC0cT0AyoV1AAAAAAAAAAAAAAAAAKAhBgKgIQcAoCEGLqAhB8ugIQfdoCEH/6AhBzugIQcAoCEHA6AhBwCgIQcAoSAIAJomBACgIQfDoCEHK6AhBwCgIQcCoCEHAqAhBwSgIQcCoCEHAKAdAgCgIQcAoCEHAqAhBwSgIQcDoCEHAKAhCACgIQcBoCEHA6AhBwSfIQcBoCEHA6AhBwSgIQcEoCEHAqAhBwCgIQcBoCEHBKAhBwSgIQcEnyEHAZ8hBwCgIQcAoCEHA6AhBwCgIQecoCEH/6AhBy2gIQcAoCEHBKAhBwCgIQckoCEH/6AhB9yfIQgFoCEHAqAhBwSgIQcEoCEHA6AoCACgIQcAoCEHA6AhBwSgIQcEoCEHAqAhBwCgIQcAAAAAAAAAAAAAAAAAAAAAAAAAAAAAAAAAAAAAAAAAAAAAAAAAAAAAAAAAAAAAAAAAd8PfA3TF4gCEt8xDY9H3vGzK66x+vNSvkqy6taecm+axlY7rxIl378eFbfzKhGf+yIRj/caFY/3DiWP+xIlp/suHdf7Ci239v4xo/sGKZ//Bimj+wItp/8aIZf+5k4r+e7/Y/32+1f95wNL+fL/U/nrC2v6Jt8f+yYl5/cqHdf3KiHn+x4Zz/siGcfbIiXXpyoh37sOJbNDCiWmtzYZ9r8yHe7LMh3qlyIdzCsmHdADKh3cBAAAAAKIcBQCgJQgAoCAHAqAhCACgIQdIoCEH/6AhB/+gIQdtoCEHAKAhBwSfIQgAoCEGAKAhCAGgIgoAoCEGFaAhB+WgIQdGoCEIAKAhBwKiIQgAnh8CAKEhBwCfHgEAnx4BAJoiBACaIQMAmiEDAJ4gBgCbIQIAmyEBAKEhBgChIQYAoSIFAKIiCAChJAcAoCEHAKAiBwCgIgcAoCIIAKIgCACiIQgAoCEHAJ0kCACeIwgAnB8HAKooBgCeIAcDoSILAKAhB7WgIQf/oCEHWZ8iBwagIAcOoCEHK6AhB8SgIQf/oCEHcqAhBwCgIQcDoSEHAAAAAAAAAAAAAAAAAAAAAAAAAAAAAAAAAAAAAAAAAAAAAAAAAAAAAAAAAAAAAAAAAAAAAAAAAAAAAAAAAAAAAAAAAAAAAAAAAAAAAAAAAAAAAAAAAAAAAACpmpwCpp2gAKuYmDGtmJjDrZiYzqSeo9Oap7Dejq+99ZCuvfjEiHT6v4tn+b+NavzAjGn+wItp/cCLZ//Cimr/yod2/8mIdf/Eim/+voxj/sGLZ/7AjGj+xolk/reUjP56wdr+fr7W/32+1P59vtT8esDY/Yq0w/7JiHb9yod1/cmJd/7Dimz9yYdy/cqHd/HJiHbsw4pszsKJaa/Nhn20zId7uMuGeqHFgGsIxoFtAMmEdAEAAAAAoCAHAKAjCACgIwgAoCEHbaAhB66gIQfLoCEHjaAeBQCgIAYCoCMIAKAhBwCgIQcCoCEHAKAhBzigIQejoCEHvqAhB62gIQdboCEHAKAhBwKgIQcAAAAAAAAAAAAAAAAAAAAAAAAAAAAAAAAAAAAAAAAAAAAAAAAAAAAAAAAAAAAAAAAAAAAAAAAAAAAAAAAAAAAAAAAAAAAAAAAAAAAAAAAAAAAAAAAAAAAAAAAAAACgIQcCoCEHAKAhBzqgIQeeoCEHu6AhB8GgIQe6oCEHoaAhB6GgIQfDoCEHvqAhB1ajIQEAoSADAJ8iCAChHQMAAAAAAAAAAAAAAAAAAAAAAAAAAAAAAAAAAAAAAAAAAAAAAAAAAAAAAAAAAAAAAAAAAAAAAAAAAAAAAAAAAAAAAAAAAAAAAAAAAAAAAAAAAAAAAAAAAAAAAIG3zQOAt80Akam3RWvL7cZwyOjfcsfl73LH5e5zxeL5hrbL+ceHc/vBimj9wItp+7+MZfzAimb+v4xk/sGLZ/7JiHT+yIl0/siIdP/Aimb+wItn/cCLaP3Hh2T+tpSN/nrB2/59vtb/ecHX/nnB2v5yxt/9hbjE/cqHc/7JiHX9yIl2/sOKa/7Jh3T8y4d59sqHdvLAi2fIwolpsc2GfbPMh3u4y4Z5nsN3YwbEeWcAyYFyAQAAAACgHAYAqBcAALIHAACfHwgDoiAHAKAgBwCgIQgAoCEHAqEgBgChIAYAoSAGAKAhCQCgIQgAoCEJAqAfCgKdIAcAmyAIAZ8hCQOaHwYAmR4FAKMiDAAAAAAAAAAAAAAAAAAAAAAAAAAAAAAAAAAAAAAAAAAAAAAAAAAAAAAAAAAAAAAAAAAAAAAAAAAAAAAAAAAAAAAAAAAAAAAAAAAAAAAAAAAAAAAAAAAAAAAAAAAAAKEiCAChIggAoSIIBKEiBwafJQkAnyQGAKEiBQCfIgYCnyIHBZ4iBAGeIgQAoCEGAKEhBwKfIggAnyIIAKAiCAAAAAAAAAAAAAAAAAAAAAAAAAAAAAAAAAAAAAAAAAAAAAAAAAAAAAAAAAAAAAAAAAAAAAAAAAAAAAAAAAAAAAAAAAAAAAAAAAAAAAAAAAAAAAAAAAAAAAAAdsDbA3XB3QCJsMFPXdb8vVzW/q9uyuvQc8Xi3XTE3e+Ft8ftxodv8sGLZ/nBi2j7votk+cCLZvrAi2X+w4lp/sqHdv7JiXT+yIh0/8GKZv7Bi2f9vYxl/cSIYP6yl5D+dcTg/n+90v+FuMb+ka+8/p2mrv6vmJP9xot4+8mJdfrJiHT9wopq+8mIc/bJiHbmyoh36sWJbsrEh22szYd8scyHe7nLhnqbw3RfBMR3ZADJgXMBAAAAAAAAAACOLBYAoCAHAKAhBwCfIQgBoCIIAqAhBwKgIQcAoCEHAKAiBwAAAAAAAAAAAJ4iCgCdIgsAnCMMAKAhCAKgIggBoCEIAKAhCAAAAAAAAAAAAAAAAAAAAAAAAAAAAAAAAAAAAAAAAAAAAAAAAAAAAAAAAAAAAAAAAAAAAAAAAAAAAAAAAAAAAAAAAAAAAAAAAAAAAAAAAAAAAAAAAAAAAAAAAAAAAAAAAAAAAAAAAAAAAKUlAwCcHwoAnB8KAKAiBwGfIQgCnyEHAZseDgChIgcAoSMIAKAhBwOgIQcDnyEIAJ8hCACgIQcAAAAAAAAAAAAAAAAAAAAAAAAAAAAAAAAAAAAAAAAAAAAAAAAAAAAAAAAAAAAAAAAAAAAAAAAAAAAAAAAAAAAAAAAAAAAAAAAAAAAAAAAAAAAAAAAAAAAAAAAAAAB2wNsDdcHdAIixw1Fg1PvAXNb/sFrY/69g0/m3b8jj5YS4y+bHhnDwwYto+sGKafzAimb8wYpn+r+LZP3Bimf+yYh1/siJdP7HiHP/wItk/sKLaP7Cimr+xIhp/cCNfvyxmJX+v42C/8WIdf7Ng3L9z4Jw/c6Dcf3GiHb6xI1598iJdvvDiWr6yYh19cuGeevLh3jwyIZy4ceEcNTLiHm7zIh7tMyGepi9Z00CwnBcAMmBcwAAAAAAoRwGAJkuCwCcJwgAnyAHAKEhBgCgIAYAnyAIAJ8gBwCfIAcAnyEIAAAAAACgIQgAoCEIAKAhCACgIAcAoiEFAKAgBgCfIQgAniAHAJ4gBgChIgoAAAAAAAAAAAAAAAAAAAAAAAAAAAAAAAAAAAAAAAAAAAAAAAAAAAAAAAAAAAAAAAAAAAAAAAAAAAAAAAAAAAAAAAAAAAAAAAAAAAAAAAAAAAAAAAAAAAAAAAAAAAChIQgAoSEIAKEiCACgIQcAoB8HAKIhBQChIAcAnyEHAKAhBwCfIAcAoSEHAJofDACuJQAAoCAHAAAAAAAAAAAAAAAAAAAAAAAAAAAAAAAAAAAAAAAAAAAAAAAAAAAAAAAAAAAAAAAAAAAAAAAAAAAAAAAAAAAAAAAAAAAAAAAAAAAAAAAAAAAAAAAAAAAAAAAAAAAAAAAAAHfB3AN1wt4Ah7PFVGDU+8Bd1v6xXtX9s2LS+LhxxuLlibTE9seHb/rAi2f9wItn/r6LZP7Aimb+v4tj/sGKaP3JiHX+yoh2/smIdv/GiG7+yYZz/sqGdv3Khnf9yYdx+c2Gb/nMhXT+yYVy/cqGd/zJhnj9yYZ3/smFc/zGh3P6wot3+8CKZ/zHh3L8yYh2+MqJdvrDimzzxIdt7cyGe+nLiHjQy4d5kPH//wCqAAAAyoBzAAAAAAAAAAAAAAAAAAAAAAAAAAAAAAAAAAAAAAAAAAAAAAAAAAAAAAAAAAAAAAAAAAAAAAAAAAAAAAAAAAAAAAAAAAAAAAAAAAAAAAAAAAAAAAAAAAAAAAAAAAAAAAAAAAAAAAAAAAAAAAAAAAAAAAAAAAAAAAAAAAAAAAAAAAAAAAAAAAAAAAAAAAAAAAAAAAAAAAAAAAAAAAAAAAAAAAAAAAAAAAAAAAAAAAAAAAAAAAAAAAAAAAAAAAAAAAAAAAAAAAAAAAAAAAAAAAAAAAAAAAAAAAAAAAAAAAAAAAAAAAAAAAAAAAAAAAAAAAAAAAAAAAAAAAAAAAAAAAAAAAAAAAAAAAAAAAAAAAAAAAAAAAAAAAAAAAAAAAAAAAAAAAAAAAAAAAAAAAAAAAAAAAAAAAAAAAAAAAAAAAAAAAAAAAAAAAAAAAAAAAAAdcLdA3PD3wCFtcdVXtX8v1nZ/7FW3P+xXNb4vWrL5+iDuMftyIZu+sOJav7EiW3+xIdr/ceGcPzHh2/+x4Zx/siIc/rKiHb7y4d3/siHcv3KhXb9yoZ2/cqGdv3IhXT7xoh0+MeJdPvGh3H+yYZ1/smHdf3JiHX+w4ls+8CLZ/nBimf7votk+seIcvrJiXb4yol2+cOJbOzEh2zazIZ808uHetbLhnh8zYl+AM6KgAHJgnIAAAAAAAAAAAAAAAAAAAAAAAAAAAAAAAAAAAAAAAAAAAAAAAAAAAAAAAAAAAAAAAAAAAAAAAAAAAAAAAAAAAAAAAAAAAAAAAAAAAAAAAAAAAAAAAAAAAAAAAAAAAAAAAAAAAAAAAAAAAAAAAAAAAAAAAAAAAAAAAAAAAAAAAAAAAAAAAAAAAAAAAAAAAAAAAAAAAAAAAAAAAAAAAAAAAAAAAAAAAAAAAAAAAAAAAAAAAAAAAAAAAAAAAAAAAAAAAAAAAAAAAAAAAAAAAAAAAAAAAAAAAAAAAAAAAAAAAAAAAAAAAAAAAAAAAAAAAAAAAAAAAAAAAAAAAAAAAAAAAAAAAAAAAAAAAAAAAAAAAAAAAAAAAAAAAAAAAAAAAAAAAAAAAAAAAAAAAAAAAAAAAAAAAAAAAAAAAAAAAAAAAAAAAAAAAAAAAAAAAAAAAB5vtgDeMDaAIiyxF5j0PXCa8nrrnu917GRrLm9qJyY6biRhObGiXjryod3+MuFdv3IhnL5yoV1+ciGc/3IhnL9yIZy+siIc/jJiHb8yIZx/sqFdf3KhnX9yod1/sWIbfzCiWr6wYpn+r2LY/nHh3L9yYh1/smIdf3Eh2z6xIds9siFcvvJhXP8yId08siJderKiHfuwoppzMKHaq7Nhn2uzId7t8yHe4zSjoUA1JGIAceBdAAAAAAAAAAAAAAAAAAAAAAAAAAAAAAAAAAAAAAAAAAAAAAAAAAAAAAAAAAAAAAAAAAAAAAAAAAAAAAAAAAAAAAAAAAAAAAAAAAAAAAAAAAAAAAAAAAAAAAAAAAAAAAAAAAAAAAAAAAAAAAAAAAAAAAAAAAAAAAAAAAAAAAAAAAAAAAAAAAAAAAAAAAAAAAAAAAAAAAAAAAAAAAAAAAAAAAAAAAAAAAAAAAAAAAAAAAAAAAAAAAAAAAAAAAAAAAAAAAAAAAAAAAAAAAAAAAAAAAAAAAAAAAAAAAAAAAAAAAAAAAAAAAAAAAAAAAAAAAAAAAAAAAAAAAAAAAAAAAAAAAAAAAAAAAAAAAAAAAAAAAAAAAAAAAAAAAAAAAAAAAAAAAAAAAAAAAAAAAAAAAAAAAAAAAAAAAAAAAAAAAAAAAAAAAAAAAAAAAAAAAAALGTkQKrl5cAr5SSNLuNhbfJhHa5z39vrdF+bL3Ogmvoy4Ru58eHc+fGinnpyYh4+ciGc/rKhXX6yIZy/siHcf7Gh2/8xIdt+sKKavu/i2X6yIdy/siJdP7IiXX9wolp+sKJafjGh278xoZv/MiIc/PKiHf1y4d4/MmFdPHKhXXnzIV49MyGd/nKhnX0yIdy6MqId+/CiWnLw4hrr82GfbPMh3u9zId7hs2HfADNh3wCyYh4AAAAAAAAAAAAAAAAAAAAAAAAAAAAAAAAAAAAAAAAAAAAAAAAAAAAAAAAAAAAAAAAAAAAAAAAAAAAAAAAAAAAAAAAAAAAAAAAAAAAAAAAAAAAAAAAAAAAAAAAAAAAAAAAAAAAAAAAAAAAAAAAAAAAAAAAAAAAAAAAAAAAAAAAAAAAAAAAAAAAAAAAAAAAAAAAAAAAAAAAAAAAAAAAAAAAAAAAAAAAAAAAAAAAAAAAAAAAAAAAAAAAAAAAAAAAAAAAAAAAAAAAAAAAAAAAAAAAAAAAAAAAAAAAAAAAAAAAAAAAAAAAAAAAAAAAAAAAAAAAAAAAAAAAAAAAAAAAAAAAAAAAAAAAAAAAAAAAAAAAAAAAAAAAAAAAAAAAAAAAAAAAAAAAAAAAAAAAAAAAAAAAAAAAAAAAAAAAAAAAAAAAAAAAAAAAAAAAAAAAAAAA8DouAMmNfQHKjX0A039tJcqEdp7JhXi+yIV3x8eGde3IhnTryIZy6ceGcePCinLtwopq9seGcfzCimn9wYto/b+LZfvAimb5wYln/cGJaPvHiHP3yod3+suHeP3JhnPyyoV17MyFePbMhnf6yoZ18siIc+bKiHjzyYZ08cmFdOrLhnb2y4Z2+sqGdPLGhm/exYhu2L6MZL7EiG2xzYZ9scyHe73Mh3uFzYZ8AM2GfALLiHoAAAAAAAAAAAAAAAAAAAAAAAAAAAAAAAAAAAAAAAAAAAAAAAAAAAAAAAAAAAAAAAAAAAAAAAAAAAAAAAAAAAAAAAAAAAAAAAAAAAAAAAAAAAAAAAAAAAAAAAAAAAAAAAAAAAAAAAAAAAAAAAAAAAAAAAAAAAAAAAAAAAAAAAAAAAAAAAAAAAAAAAAAAAAAAAAAAAAAAAAAAAAAAAAAAAAAAAAAAAAAAAAAAAAAAAAAAAAAAAAAAAAAAAAAAAAAAAAAAAAAAAAAAAAAAAAAAAAAAAAAAAAAAAAAAAAAAAAAAAAAAAAAAAAAAAAAAAAAAAAAAAAAAAAAAAAAAAAAAAAAAAAAAAAAAAAAAAAAAAAAAAAAAAAAAAAAAAAAAAAAAAAAAAAAAAAAAAAAAAAAAAAAAAAAAAAAAAAAAAAAAAAAAAAAAAAAAAAAAAAAAACQqbgAjau8AK6VlQLQgG8Axod5D8mFeHDIhHSYwolrzsCKZ8S+i2W9vYtitb6KYt2/i2Tpx4hw8caIb/7Hh3H9xoZw98mFc/LJhXP5yIZy+8eHcvHJiHXoy4h49cmGdO7KhXXpy4Z398uGdvrKhnX1yIZx5seHceHDiGvRx4dyz8qGd+fJh3bvxolw3LyMYLG9i2KwvopjsseGcLPNh3yxzId7vcyHeoTNhnwAzYZ8AsuIeQAAAAAAAAAAAAAAAAAAAAAAAAAAAAAAAAAAAAAAAAAAAAAAAAAAAAAAAAAAAAAAAAAAAAAAAAAAAAAAAAAAAAAAAAAAAAAAAAAAAAAAAAAAAAAAAAAAAAAAAAAAAAAAAAAAAAAAAAAAAAAAAAAAAAAAAAAAAAAAAAAAAAAAAAAAAAAAAAAAAAAAAAAAAAAAAAAAAAAAAAAAAAAAAAAAAAAAAAAAAAAAAAAAAAAAAAAAAAAAAAAAAAAAAAAAAAAAAAAAAAAAAAAAAAAAAAAAAAAAAAAAAAAAAAAAAAAAAAAAAAAAAAAAAAAAAAAAAAAAAAAAAAAAAAAAAAAAAAAAAAAAAAAAAAAAAAAAAAAAAAAAAAAAAAAAAAAAAAAAAAAAAAAAAAAAAAAAAAAAAAAAAAAAAAAAAAAAAAAAAAAAAAAAAAAAAAAAAAAAAAAAAMeGeADNgncAzIN3AMmGeALFg2wDw4NoAMOCaCzAiWa/wYlorcSHbLDGhXCyx4Vw3siGcerIh3PmyYh27syGd/jJhXTuyoV158iGdPfHh3L6yIZz9siGcurIiHTpxYhv28mFdNzKhnbtyod28saHcN+9i2K4vYxhtbuMX7DFim+vy4d538qId+7Jh3XYxoVwsMmEc7TKg3WyyoR2scuHeK7Mh3u6zId6gs2GfQDNhn0Cy4h4AAAAAAAAAAAAAAAAAAAAAAAAAAAAAAAAAAAAAAAAAAAAAAAAAAAAAAAAAAAAAAAAAAAAAAAAAAAAAAAAAAAAAAAAAAAAAAAAAAAAAAAAAAAAAAAAAAAAAAAAAAAAAAAAAAAAAAAAAAAAAAAAAAAAAAAAAAAAAAAAAAAAAAAAAAAAAAAAAAAAAAAAAAAAAAAAAAAAAAAAAAAAAAAAAAAAAAAAAAAAAAAAAAAAAAAAAAAAAAAAAAAAAAAAAAAAAAAAAAAAAAAAAAAAAAAAAAAAAAAAAAAAAAAAAAAAAAAAAAAAAAAAAAAAAAAAAAAAAAAAAAAAAAAAAAAAAAAAAAAAAAAAAAAAAAAAAAAAAAAAAAAAAAAAAAAAAAAAAAAAAAAAAAAAAAAAAAAAAAAAAAAAAAAAAAAAAAAAAAAAAAAAAAAAAAAAAAAAAAAAAAAAAAAAAMmFdgDJhngAyIZ5AMmFdwHNhnoBx35vBcuDd2vLg3e/y4N3tcuDd7DJhXPfyIZy68iGcurIh3PqyYh18MiGcuvJhXTmx4Zy88WIb/bEiGzowYpnxb+LZL67jF+yxodxs8qHeOLJiHfsx4dx1MKIaq7Gh2+zyIVytMqFdrLLiHq+y4d75MuGeNvLg3evyoR3s8qEdrfKhHa7yoR2vcqGeMrLh3mHzIh8AMyIfALLhnYAAAAAAAAAAAAAAAAAAAAAAAAAAAAAAAAAAAAAAAAAAAAAAAAAAAAAAAAAAAAAAAAAAAAAAAAAAAAAAAAAAAAAAAAAAAAAAAAAAAAAAAAAAAAAAAAAAAAAAAAAAAAAAAAAAAAAAAAAAAAAAAAAAAAAAAAAAAAAAAAAAAAAAAAAAAAAAAAAAAAAAAAAAAAAAAAAAAAAAAAAAAAAAAAAAAAAAAAAAAAAAAAAAAAAAAAAAAAAAAAAAAAAAAAAAAAAAAAAAAAAAAAAAAAAAAAAAAAAAAAAAAAAAAAAAAAAAAAAAAAAAAAAAAAAAAAAAAAAAAAAAAAAAAAAAAAAAAAAAAAAAAAAAAAAAAAAAAAAAAAAAAAAAAAAAAAAAAAAAAAAAAAAAAAAAAAAAAAAAAAAAAAAAAAAAAAAAAAAAAAAAAAAAAAAAAAAAAAAAAAAAAAAAAAAAAAAAMuFeADIiHYAyIh3AMqIdgDJgXcByYF3AMqFdUXKhHayyoR2wMiFc+HHhnHnxodv3sWHbdbCiWrMvoxjvMaGcLzDiGvlwYpn68GKaNe/iWWtwohpscWGbbPJhnWyy4h6y8uHeu3LhXjVy4N3rcuEd7HLhHeyyoR2tsqFdrXLiHnGyoZ40cqEdbnKhHa1yoR1pMqDdYzKhHVuyoN0U8mDcyPJg3QAyYR1AcqBcAAAAAAAAAAAAAAAAAAAAAAAAAAAAAAAAAAAAAAAAAAAAAAAAAAAAAAAAAAAAAAAAAAAAAAAAAAAAAAAAAAAAAAAAAAAAAAAAAAAAAAAAAAAAAAAAAAAAAAAAAAAAAAAAAAAAAAAAAAAAAAAAAAAAAAAAAAAAAAAAAAAAAAAAAAAAAAAAAAAAAAAAAAAAAAAAAAAAAAAAAAAAAAAAAAAAAAAAAAAAAAAAAAAAAAAAAAAAAAAAAAAAAAAAAAAAAAAAAAAAAAAAAAAAAAAAAAAAAAAAAAAAAAAAAAAAAAAAAAAAAAAAAAAAAAAAAAAAAAAAAAAAAAAAAAAAAAAAAAAAAAAAAAAAAAAAAAAAAAAAAAAAAAAAAAAAAAAAAAAAAAAAAAAAAAAAAAAAAAAAAAAAAAAAAAAAAAAAAAAAAAAAAAAAAAAAAAAAAAAAAAAAAAAAAAAAAAAAAAAAAAAAADHgnEAyINxAMiDcQHIg3MDyYN1AMqFdiXKgHVLwYhmq72MYbq9jGGyvYthsL6KY6/BiGaxx4ZyssmGddrKhXXwyoR22MqDdq/Lg3eyy4R3sMqEdrHKhnevy4h6ysuFeNfKhHW9yoR2v8qEdrnKhHaryoN1lsmDdX7KhXZEyYR1LcmCcyLGgW4JwWNKAbVBGwDEcl4AAAAAAAAAAAAAAAAAAAAAAAAAAAAAAAAAAAAAAAAAAAAAAAAAAAAAAAAAAAAAAAAAAAAAAAAAAAAAAAAAAAAAAAAAAAAAAAAAAAAAAAAAAAAAAAAAAAAAAAAAAAAAAAAAAAAAAAAAAAAAAAAAAAAAAAAAAAAAAAAAAAAAAAAAAAAAAAAAAAAAAAAAAAAAAAAAAAAAAAAAAAAAAAAAAAAAAAAAAAAAAAAAAAAAAAAAAAAAAAAAAAAAAAAAAAAAAAAAAAAAAAAAAAAAAAAAAAAAAAAAAAAAAAAAAAAAAAAAAAAAAAAAAAAAAAAAAAAAAAAAAAAAAAAAAAAAAAAAAAAAAAAAAAAAAAAAAAAAAAAAAAAAAAAAAAAAAAAAAAAAAAAAAAAAAAAAAAAAAAAAAAAAAAAAAAAAAAAAAAAAAAAAAAAAAAAAAAAAAAAAAAAAAAAAAAAAAAAAAAAAAAAAAAAAAAAAAAAAAAAAAAAAALmLiwDLhncAzYd3AM2HeADJg3QCz01aANY8XALDhmqXxYZtv8eFca/JhHSzyoN2s8uDd7LKhHawy4d5sMuHetXLhXfeyoR2ucqEdr7KhHbAyoR2vcqDdbPKhXalyoV3acqEdVjJg3VKyYN0KcmAcRHFfmgCxoBrAMd/bQDChnIAyIJ3AMmCdwDMh3gByoV4AsqEdQPKhHUCyoV3AMqGeADKgnEAAAAAAAAAAAAAAAAAAAAAAAAAAAAAAAAAAAAAAAAAAAAAAAAAAAAAAAAAAAAAAAAAAAAAAAAAAAAAAAAAAAAAAAAAAAAAAAAAAAAAAAAAAAAAAAAAAAAAAAAAAAAAAAAAAAAAAAAAAAAAAAAAAAAAAAAAAAAAAAAAAAAAAAAAAAAAAAAAAAAAAAAAAAAAAAAAAAAAAAAAAAAAAAAAAAAAAAAAAAAAAAAAAAAAAAAAAAAAAAAAAAAAAAAAAAAAAAAAAAAAAAAAAAAAAAAAAAAAAAAAAAAAAAAAAAAAAAAAAAAAAAAAAAAAAAAAAAAAAAAAAAAAAAAAAAAAAAAAAAAAAAAAAAAAAAAAAAAAAAAAAAAAAAAAAAAAAAAAAAAAAAAAAAAAAAAAAAAAAAAAAAAAAAAAAAAAAAAAAAAAAAAAAAAAAAAAAAAAAAAAAAAAAAAAAAAAAAAAAAAAAAAAAAAAAAAAAADMhXcAyIJ1AMeDcwDLhHcD1oWHANCCfRrLhHiSy4R3wMqEd7PKhHa3yoR2u8qEdr/KhHW+yoZ3vMqFd6jKg3WKyYN1eMqDdVjJg3Q6yYNzH8d8bwmhICwAAAAAALtfWADLhnkAy4R5AMuDeADLh3oCyod4AsqEdQLJg3MCyINyAch/cQDLhnMAxXxnAMmAdwDLhWkAAAAAAAAAAAAAAAAAAAAAAAAAAAAAAAAAAAAAAAAAAAAAAAAAAAAAAAAAAAAAAAAAAAAAAAAAAAAAAAAAAAAAAAAAAAAAAAAAAAAAAAAAAAAAAAAAAAAAAAAAAAAAAAAAAAAAAAAAAAAAAAAAAAAAAAAAAAAAAAAAAAAAAAAAAAAAAAAAAAAAAAAAAAAAAAAAAAAAAAAAAAAAAAAAAAAAAAAAAAAAAAAAAAAAAAAAAAAAAAAAAAAAAAAAAAAAAAAAAAAAAAAAAAAAAAAAAAAAAAAAAAAAAAAAAAAAAAAAAAAAAAAAAAAAAAAAAAAAAAAAAAAAAAAAAAAAAAAAAAAAAAAAAAAAAAAAAAAAAAAAAAAAAAAAAAAAAAAAAAAAAAAAAAAAAAAAAAAAAAAAAAAAAAAAAAAAAAAAAAAAAAAAAAAAAAAAAAAAAAAAAAAAAAAAAAAAAAAAAAAAAAAAAAAAAAAAAAAAAAAAAAAAAAAAAAAAAAAAxWRbAMVkWwDIgnMBx4t2AMaIcwbKhXZvyoR2tcqEdaLKhHWLyoR1b8mDdFDJgnMyxn9uD82SeADKiHQAsFFSANOJgQDHgnIAyINzAM2FeAHKhHYDyoR1A8mDdALJgXMByYJxAMd/bwDGfG8AwHJpAMZ8bgAAAAAAAAAAAAAAAAAAAAAAAAAAAAAAAAAAAAAAAAAAAAAAAAAAAAAAAAAAAAAAAAAAAAAAAAAAAAAAAAAAAAAAAAAAAAAAAAAAAAAAAAAAAAAAAAAAAAAAAAAAAAAAAAAAAAAAAAAAAAAAAAAAAAAAAAAAAAAAAAAAAAAAAAAAAAAAAAAAAAAAAAAAAAAAAAAAAAAAAAAAAAAAAAAAAAAAAAAAAAAAAAAAAAAAAAAAAAAAAAAAAAAAAAAAAAAAAAAAAAAAAAAAAAAAAAAAAAAAAAAAAAAAAAAAAAAAAAAAAAAAAAAAAAAAAAAAAAAAAAAAAAAAAAAAAAAAAAAAAAAAAAAAAAAAAAAAAAAAAAAAAAAAAAAAAAAAAAAAAAAAAAAAAAAAAAAAAAAAAAAAAAAAAAAAAAAAAAAAAAAAAAAAAAAAAAAAAAAAAAAAAAAAAAAAAAAAAAAAAAAAAAAAAAAAAAAAAAAAAAAAAAAAAAAAAAAAAAAAAAAAAAAAAAAAAAAAAAAAAAAAAAAAAADIhW8Ay4R4AMuEdwDKhXUCzH9xAMuFdgPJgnMbyIFxCXsAAABoAAAAw29gAMiBdQDIgnUAzIZ4AcuGeALKhHYDyYN1AsmDcwLJgnMBxX9wAMR7bgDIgXIAwoBrAN+AgAAAAAAAAAAAAAAAAAAAAAAAAAAAAAAAAAAAAAAAAAAAAAAAAAAAAAAAAAAAAAAAAAAAAAAAAAAAAAAAAAAAAAAAAAAAAAAAAAAAAAAAAAAAAAAAAAAAAAAAAAAAAAAAAAAAAAAAAAAAAAAAAAAAAAAAAAAAAAAAAAAAAAAAAAAAAAAAAAAAAAAAAAAAAAAAAAAAAAAAAAAAAAAAAAAAAAAAAAAAAAAAAAAAAAAAAAAAAAAAAAAAAAAAAAAAAAAAAAAAAAAAAAAAAAAAAAAAAAAAAAAAAAAAAAAAAAAAAAAAAAAAAAAAAAAAAAAAAAAAAAAAAAAAAAAAAAAAAAAAAAAAAAAAAAAAAAAAAAAAAAAAAAAAAAAAAAAAAAAAAAAAAAAAAAAAAAAAAAAAAAAAAAAAAAAAAAAAAAAAAAAAAAAAAAAAAAAAAAAAAAAAAAAAAAAAAAAAAAAAAAAAAAAAAAAAAAAAAAAAAAAAAAAAAAAAAAAAAAAAAAAAAAAAAAAAAAAAAAAAAAAAAAAAAAAAAAAAAAAAAAAAAAAAAAAAAAAAAAAAAADJiXwAyoR2AMqFdgDJhXcByoN3AsmIdgDMgHYAyoV5AcuFeAPJg3UDyYN1AsiBcgHHfXMAyIFyAMh3cADGXmQAyX1zAAAAAAAAAAAAAAAAAAAAAAAAAAAAAAAAAAAAAAAAAAAAAAAAAAAAAAAAAAAAAAAAAAAAAAAAAAAAAAAAAAAAAAAAAAAAAAAAAAAAAAAAAAAAAAAAAAAAAAAAAAAAAAAAAAAAAAAAAAAAAAAAAAAAAAAAAAAAAAAAAAAAAAAAAAAAAAAAAAAAAAAAAAAAAAAAAAAAAAAAAAAAAAAAAAAAAAAAAAAAAAAAAAAAAAAAAAAAAAAAAAAAAAAAAAAAAAAAAAAAAAAAAAAAAAAAAAAAAAAAAAAAAAAAAAAAAAAAAAAAAAAAAAAAAAAAAAAAAAAAAAAAAAAAAAAAAAAAAAAAAAAAAAAAAAAAAAAAAAAAAAAAAAAAAAAAAAAAAAAAAAAAAAAAAAAAAAAAAAAAAAAAAAAAAAAAAAAAAAAAAAAAAAAAAAAAAAAAAAAAAAAAAAAAAAAAAAAAAAAAAAAAAAAAAAAAAAAAAAAAAAAAAAAAAAAAAAAAAAAAAAAAAAAAAAAAAAAAAAAAAAAAAAAAAAAAAAAAAAAAAAAAAAAAAAAAAAAAAAAAAAAAAAAAAAAAAAAAAAAAAAAAAAAAAAAAAAAAAADGhGgAyoV2AMqFdgDKhXUAyYJ0AcmCcwHJfm8AyYh1AMZvYQDKhngAxXlmAAAAAAAAAAAAAAAAAAAAAAAAAAAAAAAAAAAAAAAAAAAAAAAAAAAAAAAAAAAAAAAAAAAAAAAAAAAAAAAAAAAAAAAAAAAAAAAAAAAAAAAAAAAAAAAAAAAAAAAAAAAAAAAAAAAAAAAAAAAAAAAAAAAAAAAAAAAAAAAAAAAAAAAAAAAAAAAAAAAAAAAAAAAAAAAAAAAAAAAAAAAAAAAAAAAAAAAAAAAAAAAAAAAAAAAAAAAAAAAAAAAAAAAAAAAAAAAAAAAAAAAAAAAAAAAAAAAAAAAAAAAAAAAAAAAAAAAAAAAAAAAAAAAAAAAAAAAAAAAAAAAAAAAAAAAAAAAAAAAAAAAAAAAAAAAAAAAAAAAAAAAAAAAAAAAAAAAAAAAAAAAAAAAAAAAAAAAAAAAAAAAAAAAAAAAAAAAAAAAAAAAAAAAAAAAAAAAAAAAAAAAAAAAAAAAAAAAAAAAAAAAAAAAAAAAAAAAAAAAAAAAAAAAAAAAAAAAAAAAAAAAAAAAAAAAAAAAAAAAAAAAAAAAAAAAAAAAAAAAAAAAAAAAAAAAAAAAAAAAAAAAAAAAAAAAAAAAAAAAAAAAAAAAAAAAAAAAAAAAAAAAAAAAAAAAAAAAAAAAAAAAAAAAAAAAAAAAAAAAAAAAAAAAAAAAAAAAAAAAAAAAAAAAAAAAAAAAAAAAAAAAAAAAAAAAAAAAAAAAAAAAAAAAAAAAAAAAAAAAAAAAAAAAAAAAAAAAAAAAAAAAAAAAAAAAAAAAAAAAAAAAAAAAAAAAAAAAAAAAAAAAAAAAAAAAAAAAAAAAAAAAAAAAAAAAAAAAAAAAAAAAAAAAAAAAAAAAAAAAAAAAAAAAAAAAAAAAAAAAAAAAAAAAAAAAAAAAAAAAAAAAAAAAAAAAAAAAAAAAAAAAAAAAAAAAAAAAAAAAAAAAAAAAAAAAAAAAAAAAAAAAAAAAAAAAAAAAAAAAAAAAAAAAAAAAAAAAAAAAAAAAAAAAAAAAAAAAAAAAAAAAAAAAAAAAAAAAAAAAAAAAAAAAAAAAAAAAAAAAAAAAAAAAAAAAAAAAAAAAAAAAAAAAAAAAAAAAAAAAAAAAAAAAAAAAAAAAAAAAAAAAAAAAAAAAAAAAAAAAAAAAAAAAAAAAAAAAAAAAAAAAAAAAAAAAAAAAAAAAAAAAAAAAAAAAAAAAAAAAAAAAAAAAAAAAAAAAAAAAAAAAAAAAAAAAAAAAAAAAAAAAAAAAAAAAAAAAAAAAAAAAAAAAAAAAAAAAAAAAAAAAAAAAAAAAAAAAAAAAAAAAAAAAAAAAAAAAAAAAAAAAAAAAAAAAAAAAAAAAAAAAAAAAAAAAAAAAAAAAAAAAAAAAAAAAAAAAAAAAAAAAAAAAAAAAAAAAAAAAAAAAAAAAAAAAAAAAAAAAAAAAAAAAAAAAAAAAAAAAAAAAAAAAAAAAAAAAAAAAAAAAAAAAAAAAAAAAAAAAAAAAAAAAAAAAAAAAAAAAAAAAAAAAAAAAAAAAAAAAAAAAAAAAAAAAAAAAAAAAAAAAAAAAAAAAAAAAAAAAAAAAAAAAAAAAAAAAAAAAAAAAAAAAAAAAAAAAAAAAAAAAAAAAAAAAAAAAAAAAAAAAAAAAAAAAAAAAAAAAAAAAAAAAAAAAAAAAAAAAAAAAAAAAAAAAAAAAAAAAAAAAAAAAAAAAAAAAAAAAAAAAAAAAAAAAAAAAAAAAAAAAAAAAAAAAAAAAAAAAAAAAAAAAAAAAAAAAAAAAAAAAAAAAAAAAAAAAAAAAAAAAAAAAAAAAAAAAAAAAAAAAAAAAAAAAAAAAAAAAAAAAAAAAAAAAAAAAAAAAAAAAAAAAAAAAAAAAAAAAAAAAAAAAAAAAAAAAAAAAAAAAAAAAAAAAAAAAAAAAAAAAAAAAAAAAAAAAAAAAAAAAAAAAAAAAAAAAAAAAAAAAAAAAAAAAAAAAAAAAAAAAAAAAAAAAAAAAAAAAAAAAAAAAAAAAAAAAAAAAAAAAAAAAAAAAAAAAAAAAAAAAAAAAAAAAAAAAAAAAAAAAAAAAAAAAAAAAAAAAAAAAAAAAAAAAAAAAAAAAAAAAAAAAAAAAAAAAAAAAAAAAAAAAAAAAAAAAAAAAAAAAAAAAAAAAAAAAAAAAAAAAAAAAAAAAAAAAAAAAAAAAAAAAAAAAAAAAAAAAAAAAAAAAAAAAAAAAAAAAAAAAAAAAAAAAAAAAAAAAAAAAAAAAAAAAAAAAAAAAAAAAAAAAAAAAAAAAAAAAAAAAAAAAAAAAAAAAAAAAAAAAAAAAAAAAAAAAAAAAAAAAAAAAAAAAAAAAAAAAAAAAAAAAAAAAAAAAAAAAAAAAAAAAAAAAAAAAAAAAAAAAAAAAAAAAAAAAAAAAAAAAAAAAAAAAAAAAAAAAAAAAAAAAAAAAAAAAAAAAAAAAAAAAAAAAAAAAAAAAAAAAAAAAAAAAAAAAAAAAAAAAAAAAAAAAAAAAAAAAAAAAAAAAAAAAAAAAAAAAAAAAAAAAAAAAAAAAAAAAAAAAAAAAAAAAAAAAAAAAAAAAAAAAAAAAAAAAAAAAAAAAAAAAAAAAAAAAAAAAAAAAAAAAAAAAAAAAAAAAAAAAAAAAAAAAAAAAAAAAAAAAAAAAAAAAAAAAAAAAAAAAAAAAAAAAAAAAAAAAAAAAAAAAAAAAAAAAAAAAAAAAAAAAAAAAAAAAAAAAAAAAAAAAAAAAAAAAAAAAAAAAAAAAAAAAAAAAAAAAAAAAAAAAAAAAAAAAAAAAAAAAAAAAAAAAAAAAAAAAAAAAAAAAAAAAAAAAAAAAAAAAAAAAAAAAAAAAAAAAAAAAAAAAAAAAAAAAAAAAAAAAAAAAAAAAAAAAAAAAAAAAAAAAAAAAAAAAAAAAAAAAAAAAAAAAAAAAAAAAAAAAAAAAAAAAAAAAAAAAAAAAAAAAAAAAAAAAAAAAAAAAAAAAAAAAAAAAAAAAAAAAAAAAAAAAAAAAAAAAAAAAAAAAAAAAAAAAAAAAAAAAAAAAAAAAAAAAAAAAAAAAAAAAAAAAAAAAAAAAAAAAAAAAAAAAAAAAAAAAAAAAAAAAAAAAAAAAAAAAAAAAAAAAAAAAAAAAAAAAAAAAAAAAAAAAAAAAAAAAAAAAAAAAAAAAAAAAAAAAAAAAAAAAAAAAAAAAAAAAAAAAAAAAAAAAAAAAAAAAAAAAAAAAAAAAAAAAAAAAAAAAAAAAAAAAAAAAAAAAAAAAAAAAAAAAAAAAAAAAAAAAAAAAAAAAAAAAAAAAAAAAAAAAAAAAAAAAAAAAAAAAAAAAAAAAAAAAAAAAAAAAAAAAAAAAAAAAAAAAAAAAAAAAAAAAAAAAAAAAAAAAAAAAAAAAAAAAAAAAAAAAAAAAAAAAAAAAAAAAAAAAAAAAAAAAAAAAAAAAAAAAAAAAAAAAAAAAAAAAAAAAAAAAAAAAAAAAAAAAAAAAAAAAAAAAAAAAAAAAAAAAAAAAAAAAAAAAAAAAAAAAAAAAAAAAAAAAAAAAAAAAAAAAAAAAAAAAAAAAAAAAAAAAAAAAAAAAAAAAAAAAAAAAAAAAAAAAAAAAAAAAAAAAAAAAAAAAAAAAAAAAAAAAAAAAAAAAAAAAAAAAAAAAAAAAAAAAAAAAAAAAAAAAAAAAAAAAAAAAAAAAAAAAAAAAAAAAAAAAAAAAAAAAAAAAAAAAAAAAAAAAAAAAAAAAAAAAAAAAAAAAAAAAAAAAAAAAAAAAAAAAAAAAAAAAAAAAAAAAAAAAAAAAAAAAAAAAAAAAAAAAAAAAAAAAAAAAAAAAAAAAAAAAAAAAAAAAAAAAAAAAAAAAAAAAAAAAAAAAAAAAAAAAAAAAAAAAAAAAAAAAAAAAAAAAAAAAAAAAAAAAAAAAAAAAAAAAAAAAAAAAAAAAAAAAAAAAAAAAAAAAAAAAAAAAAAAAAAAAAAAAAAAAAAAAAAAAAAAAAAAAAAAAAAAAAAAAAAAAAAAAAAAAAAAAAAAAAAAAAAAAAAAAAAAAAAAAAAAAAAAAAAAAAAAAAAAAAAAAAAAAAAAAAAAAAAAAAAAAAAAAAAAAAAAAAAAAAAAAAAAAAAAAAAAAAAAAAAAAAAAAAAAAAAAAAAAAAAAAAAAAAAAAAAAAAAAAAAAAAAAAAAAAAAAAAAAAAAAAAAAAAAAAAAAAAAAAAAAAAAAAAAAAAAAAAAAAAAAAAAAAAAAAAAAAAAAAAAAAAAAAAAAAAAAAAAAAAAAAAAAAAAAAAAAAAAAAAAAAAAAAAAAAAAAAAAAAAAAAAAAAAAAAAAAAAAAAAAAAAAAAAAAAAAAAAAAAAAAAAAAAAAAAAAAAAAAAAAAAAAAAAAAAAAAAAAAAAAAAAAAAAAAAAAAAAAAAAAAAAAAAAAAAAAAAAAAAAAAAAAAAAAAAAAAAAAAAAAAAAAAAAAAAAAAAAAAAAAAAAAAAAAAAAAAAAAAAAAAAAAAAAAAAAAAAAAAAAAAAAAAAAAAAAAAAAAAAAAAAAAAAAAAAAAAAAAAAAAAAAAAAAAAAAAAAAAAAAAAAAAAAAAAAAAAAAAAAAAAAAAAAAAAAAAAAAAAAAAAAAAAAAAAAAAAAAAAAAAAAAAAAAAAAAAAAAAAAAAAAAAAAAAAAAAAAAAAAAAAAAAAAAAAAAAAAAAAAAAAAAAAAAAAAAAAAAAAAAAAAAAAAAAAAAAAAAAAAAAAAAAAAAAAAAAAAAAAAAAAAAAAAAAAAAAAAAAAAAAAAAAAAAAAAAAAAAAAAAAAAAAAAAAAAAAAAAAAAAAAAAAAAAAAAAAAAAAAAAAAAAAAAAAAAAAAAAAAAAAAAAAAAAAAAAAAAAAAAAAAAAAAAAAAAAAAAAAAAAAAAAAAAAAAAAAAAAAAAAAAAAAAAAAAAAAAAAAAAAAAAAAAAAAAAAAAAAAAAAAAAAAAAAAAAAAAAAAAAAAAAAAAAAAAAAAAAAAAAAAAAAAAAAAAAAAAAAAAAAAAAAAAAAAAAAAAAAAAAAAAAAAAAAAAAAAAAAAAAAAAAAAAAAAAAAAAAAAAAAAAAAAAAAAAAAAAAAAAAAAAAAAAAAAAAAAAAAAAAAAAAAAAAAAAAAAAAAAAAAAAAAAAAAAAAAAAAAAAAAAAAAAAAAAAAAAAAAAAAAAAAAAAAAAAAAAAAAAAAAAAAAAAAAAAAAAAAAAAAAAAAAAAAAAAAAAAAAAAAAAAAAAAAAAAAAAAAAAAAAAAAAAAAAAAAAAAAAAAAAAAAAAAAAAAAAAAAAAAAAAAAAAAAAAAAAAAAAAAAAAAAAAAAAAAAAAAAAAAAAAAAAAAAAAAAAAAAAAAAAAAAAAAAAAAAAAAAAAAAAAAAAAAAAAAAAAAAAAAAAAAAAAAAAAAAAAAAAAAAAAAAAAAAAAAAAAAAAAAAAAAAAAAAAAAAAAAAAAAAAAAAAAAAAAAAAAAAAAAAAAAAAAAAAAAAAAAAAAAAAAAAAAAAAAAAAAAAAAAAAAAAAAAAAAAAAAAAAAAAAAAAAAAAAAAAAAAAAAAAAAAAAAAAAAAAAAAAAAAAAAAAAAAAAAAAAAAAAAAAAAAAAAAAAAAAAAAAAAAAAAAAAAAAAAAAAAAAAAAAAAAAAAAAAAAAAAAAAAAAAAAAAAAAAAAAAAAAAAAAAAAAAAAAAAAAAAAAAAAAAAAAAAAAAAAAAAAAAAAAAAAAAAAAAAAAAAAAAAAAAAAAAAAAAAAAAAAAAAAAAAAAAAAAAAAAAAAAAAAAAAAAAAAAAAAAAAAAAAAAAAAAAAAAAAAAAAAAAAAAAAAAAAAAAAAAAAAAAAAAAAAAAAAAAAAAAAAAAAAAAAAAAAAAAAAAAAAAAAAAAAAAAAAAAAAAAAAAAAAAAAAAAAAAAAAAAAAAAAAAAAAAAAAAAAAAAAAAAAAAAAAAAAAAAAAAAAAAAAAAAAAAAAAAAAAAAAAAAAAAAAAAAAAAAAAAAAAAAAAAAAAAAAAAAAAAAAAAAAAAAAAAAAAAAAAAAAAAAAAAAAAAAAAAAAAAAAAAAAAAAAAAAAAAAAAAAAAAAAAAAAAAAAP///////////////////////////////////////////////////////////////////////////////////////////////////////////////////////////////////////////////////////////////////////////////wT//////////////////+ARf/////////////////gBRL////////////////8AkAJ////////////////AKgAAL//////////////9BAAAAJP//////////////9AAAAAt//////////////0AAAAAE//////////////9AAAAAAl/////////6F///QAAAAAIv/////////0v//0AAAAAAl/////////oX//9AAAAAAC/////////6Cf//QAAAAAAX////////+kn//0AAAAAAFoLRQAABABJE//9AAAAAABf/pJS////6JP//QAAAAAAUglFAAAEAFyR//0AAAAAAFIKhQAABABcif/9AAAAAABdJAYQoxRReQj//QAAAAAAWSkGKKIUUVkE//0AAAAAAF0qJiijFFERBP/9AAAAAABdJCYooxRRSiJ//QAAAAAAXShmKKIUUCIyv/0AAAAAAF0gpiijDFAMUX/9AAAAAABdMSQwgACRQAC//QAAAAAAXSAkMIAgkUAgv/0AAAAAAFkCJP/wilEC///9AAAAAADdBWQwgCCRQCC//QAAAAAAUQpEPvJxEAT///0AAAAAAFIQgn///0AI///9AAAAAABURJL///9KIv///QAAAAAAXQtF////0YX///0AAAAAAF4Wgv///0Af///9AAAAAADf/////////////QAAAAAAn/////////////0AAAAAAJ/////////////9AAAAAACf/////////////IAAAAAAn/////////////1AAAAAAJ/////////////8kAAAAACf/////////////0AAAAAAn//////////////kAAAAAJ//////////////0gAAAAX//////////////+kAAAFQv//////////////ygAAkAf///////////////UASgH////////////////6BQC//////////////////TAP//////////////////6B///////////////////////////////////////////////////////////////////////////////////////////////////////////////////////////////////////////////////////////////////////////////////////////8=\"align=\"left\" hspace=\"10px\" vspace=\"0px\"></p>\n",
        "\n",
        "#INTRODUCING NumPy Array (numerical data types)\n",
        "\n",
        "Watch [NumPy Array]('https://numpy.org/doc/stable/index.html')\n",
        "\n",
        "\n",
        "\n",
        "\n",
        "\n",
        "\n"
      ]
    },
    {
      "cell_type": "code",
      "metadata": {
        "id": "DKBXom1d4JaP"
      },
      "source": [
        ""
      ],
      "execution_count": null,
      "outputs": []
    },
    {
      "cell_type": "markdown",
      "metadata": {
        "id": "_7a5HE8y4Jq6"
      },
      "source": [
        "Data Type | Details\n",
        "--- | ---\n",
        "bool | This is a Boolean type that stores a bit and takes **True** or **False** values.\n",
        "inti | Platform integers can be either int32 or int64 .\n",
        "int8 | Byte store values range from -128 to 127 .\n",
        "int16 | This stores integers ranging from -32768 to 32767 .\n",
        "int32 |This stores integers ranging from $-2^{31} $ to $2^{31}-1$.\n",
        "int64 |This stores integers ranging from $-2^{63} $ to $2^{63}-1$.\n",
        "uint8|This stores unsigned integers ranging from 0 to 255 .\n",
        "uint16 |This stores unsigned integers ranging from 0 to 65535.\n",
        "uint32|This stores unsigned integers ranging from 0 to $2^{32}-1$.\n",
        "uint64|This stores unsigned integers ranging from 0 to $2^{64}-1$.\n",
        "float16|Half-precision float; sign bit with 5 bits exponent and 10 bits mantissa.\n",
        "float32|Single-precision float; sign bit with 8 bits exponent and 23 bits mantissa.\n",
        "float64 or float|Double-precision float; sign bit with 11 bits exponent and 52 bits mantissa.\n",
        "complex64|Complex number stores two 32-bit floats: real and imaginary number.\n",
        "complex128 or complex|Complex number stores two 64-bit floats: real and imaginary number.\n"
      ]
    }
  ]
}