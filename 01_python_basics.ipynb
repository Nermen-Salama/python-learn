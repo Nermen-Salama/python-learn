{
  "nbformat": 4,
  "nbformat_minor": 0,
  "metadata": {
    "colab": {
      "name": "01_python-basics.ipynb",
      "provenance": [],
      "authorship_tag": "ABX9TyMDdLTW5dOmsfPRHG60XHRt",
      "include_colab_link": true
    },
    "kernelspec": {
      "name": "python3",
      "display_name": "Python 3"
    },
    "language_info": {
      "name": "python"
    }
  },
  "cells": [
    {
      "cell_type": "markdown",
      "metadata": {
        "id": "view-in-github",
        "colab_type": "text"
      },
      "source": [
        "<a href=\"https://colab.research.google.com/github/Nermen-Salama/python-learn/blob/main/01_python_basics.ipynb\" target=\"_parent\"><img src=\"https://colab.research.google.com/assets/colab-badge.svg\" alt=\"Open In Colab\"/></a>"
      ]
    },
    {
      "cell_type": "markdown",
      "metadata": {
        "id": "tg_w7Kz6gVSf"
      },
      "source": [
        "<p><img alt=\"Colaboratory logo\" height=\"45px\" src=\"/img/colab_favicon.ico\" align=\"left\" hspace=\"10px\" vspace=\"0px\"></p>\n",
        "\n",
        "<h1>What is Colaboratory?</h1>\n",
        "\n",
        "Colaboratory, or \"Colab\" for short, allows you to write and execute Python in your browser, with \n",
        "- Zero configuration required\n",
        "- Free access to GPUs\n",
        "- Easy sharing\n",
        "\n",
        "Whether you're a **student**, a **data scientist** or an **AI researcher**, Colab can make your work easier. Watch [Introduction to Colab](https://www.youtube.com/watch?v=inN8seMm7UI) to learn more, or just get started below!"
      ]
    },
    {
      "cell_type": "markdown",
      "metadata": {
        "id": "lgX_WriIgg-E"
      },
      "source": [
        "## **Getting started**\n",
        "\n",
        "The document you are reading is not a static web page, but an interactive environment called a **Colab notebook** that lets you write and execute code.\n",
        "\n",
        "###**This Tutorial made for \"AI from Concept to Market\" course.** \n",
        "\n",
        "For example, here is a **code cell** with a short Python script that computes a value, stores it in a variable, and prints the result:\n"
      ]
    },
    {
      "cell_type": "code",
      "metadata": {
        "colab": {
          "base_uri": "https://localhost:8080/"
        },
        "id": "KojhutNKfLxA",
        "outputId": "0ba64c0a-d7ea-4ad4-ca0d-73a167797bee"
      },
      "source": [
        ""
      ],
      "execution_count": null,
      "outputs": [
        {
          "output_type": "stream",
          "name": "stdout",
          "text": [
            "Cloning into 'python-learn'...\n",
            "remote: Enumerating objects: 7, done.\u001b[K\n",
            "remote: Counting objects:  14% (1/7)\u001b[K\rremote: Counting objects:  28% (2/7)\u001b[K\rremote: Counting objects:  42% (3/7)\u001b[K\rremote: Counting objects:  57% (4/7)\u001b[K\rremote: Counting objects:  71% (5/7)\u001b[K\rremote: Counting objects:  85% (6/7)\u001b[K\rremote: Counting objects: 100% (7/7)\u001b[K\rremote: Counting objects: 100% (7/7), done.\u001b[K\n",
            "remote: Compressing objects:  20% (1/5)\u001b[K\rremote: Compressing objects:  40% (2/5)\u001b[K\rremote: Compressing objects:  60% (3/5)\u001b[K\rremote: Compressing objects:  80% (4/5)\u001b[K\rremote: Compressing objects: 100% (5/5)\u001b[K\rremote: Compressing objects: 100% (5/5), done.\u001b[K\n",
            "remote: Total 7 (delta 0), reused 0 (delta 0), pack-reused 0\u001b[K\n",
            "Unpacking objects:  14% (1/7)   \rUnpacking objects:  28% (2/7)   \rUnpacking objects:  42% (3/7)   \rUnpacking objects:  57% (4/7)   \rUnpacking objects:  71% (5/7)   \rUnpacking objects:  85% (6/7)   \rUnpacking objects: 100% (7/7)   \rUnpacking objects: 100% (7/7), done.\n",
            "Already on 'incoming'\n",
            "Your branch is up to date with 'origin/incoming'.\n"
          ]
        }
      ]
    },
    {
      "cell_type": "code",
      "metadata": {
        "id": "Q9tuWfcqfMpx"
      },
      "source": [
        ""
      ],
      "execution_count": null,
      "outputs": []
    },
    {
      "cell_type": "markdown",
      "metadata": {
        "id": "mD3c0RrajnQZ"
      },
      "source": [
        "\n",
        "##NumPy array numerical data types\n",
        "\n",
        "Data Type | Details\n",
        "--- | ---\n",
        "bool | This is a Boolean type that stores a bit and takes **True** or **False** values.\n",
        "inti | Platform integers can be either int32 or int64 .\n",
        "int8 | Byte store values range from -128 to 127 .\n",
        "int16 | This stores integers ranging from -32768 to 32767 .\n",
        "int32 |This stores integers ranging from $-2^{31} $ to $2^{31}-1$.\n",
        "int64 |This stores integers ranging from $-2^{63} $ to $2^{63}-1$.\n",
        "uint8|This stores unsigned integers ranging from 0 to 255 .\n",
        "uint16 |This stores unsigned integers ranging from 0 to 65535.\n",
        "uint32|This stores unsigned integers ranging from 0 to $2^{32}-1$.\n",
        "uint64|This stores unsigned integers ranging from 0 to $2^{64}-1$.\n",
        "float16|Half-precision float; sign bit with 5 bits exponent and 10 bits mantissa.\n",
        "float32|Single-precision float; sign bit with 8 bits exponent and 23 bits mantissa.\n",
        "float64 or float|Double-precision float; sign bit with 11 bits exponent and 52 bits mantissa.\n",
        "complex64|Complex number stores two 32-bit floats: real and imaginary number.\n",
        "complex128 or complex|Complex number stores two 64-bit floats: real and imaginary number.\n",
        "\n",
        "\n",
        "\n",
        "\n",
        "\n",
        "\n",
        "\n"
      ]
    },
    {
      "cell_type": "markdown",
      "metadata": {
        "id": "p2aalyLJxZ3t"
      },
      "source": [
        "\n",
        "<table style=\"hight:200px\">\n",
        "  <tr>\n",
        "    <th>Company</th>\n",
        "    <th>Contact</th>\n",
        "    <th>Country</th>\n",
        "  </tr>\n",
        "  <tr>\n",
        "    <td>Alfreds Futterkiste</td>\n",
        "    <td>Maria Anders</td>\n",
        "    <td>Germany</td>\n",
        "  </tr>\n",
        "  <tr>\n",
        "    <td>Centro comercial Moctezuma</td>\n",
        "    <td>Francisco Chang</td>\n",
        "    <td>Mexico</td>\n",
        "  </tr>\n",
        "</table>"
      ]
    },
    {
      "cell_type": "markdown",
      "metadata": {
        "id": "cbFblFCZyHMT"
      },
      "source": [
        "<table style=\"width:100%\">\n",
        "  <tr>\n",
        "    <th>Firstname</th>\n",
        "    <th>Lastname</th>\n",
        "    <th>Age</th>\n",
        "  </tr>\n",
        "  <tr style=\"height:200px\">\n",
        "    <td>Jill</td>\n",
        "    <td>Smith</td>\n",
        "    <td>50</td>\n",
        "  </tr>\n",
        "  <tr>\n",
        "    <td>Eve</td>\n",
        "    <td>Jackson</td>\n",
        "    <td>94</td>\n",
        "  </tr>\n",
        "</table>"
      ]
    },
    {
      "cell_type": "markdown",
      "metadata": {
        "id": "CVUZTsm5yPF-"
      },
      "source": [
        "\n",
        "<p style=\"font-size:160%;\">This is a paragraph.</p>\n",
        "<table style=\"width:1000%\">\n",
        "  <tr>\n",
        "    <th style=\"width:70%\">Firstname</th>\n",
        "    <th>Lastname</th>\n",
        "    <th>Age</th>\n",
        "  </tr>\n",
        "  <tr>\n",
        "    <td>Jill</td>\n",
        "    <td>Smith</td>\n",
        "    <td>50</td>\n",
        "  </tr>\n",
        "  <tr>\n",
        "    <td>Eve</td>\n",
        "    <td>Jackson</td>\n",
        "    <td>94</td>\n",
        "  </tr>\n",
        "</table>\n"
      ]
    },
    {
      "cell_type": "markdown",
      "metadata": {
        "id": "UHrvHsf5ynGn"
      },
      "source": [
        "table, th, td {\n",
        "  border: 1px solid black;\n",
        "   <table style=\"width:100%\">\n",
        "   <tr>\n",
        "      <th style=\"width:70%\">Firstname</th>\n",
        "       <th>Lastname</th>\n",
        "            <th>Age</th>\n",
        "  </tr>\n",
        "  <tr>\n",
        "    <td>Jill</td>\n",
        "    <td>Smith</td>\n",
        "    <td>50</td>\n",
        "  </tr>\n",
        "  <tr>\n",
        "    <td>Eve</td>\n",
        "    <td>Jackson</td>\n",
        "    <td>94</td>\n",
        "  </tr>\n",
        "</table>\n",
        "}"
      ]
    },
    {
      "cell_type": "markdown",
      "metadata": {
        "id": "RZhUA2jby7o4"
      },
      "source": [
        "<table>\n",
        "  <tr>\n",
        "    <th colspan=\"2\">Name</th>\n",
        "    <th>Age</th>\n",
        "  </tr>\n",
        "  <tr>\n",
        "    <td>Jill</td>\n",
        "    <td>Smith</td>\n",
        "    <td>50</td>\n",
        "  </tr>\n",
        "  <tr>\n",
        "    <td>Eve</td>\n",
        "    <td>Jackson</td>\n",
        "    <td>94</td>\n",
        "  </tr>\n",
        "</table>"
      ]
    },
    {
      "cell_type": "code",
      "metadata": {
        "id": "nsrfnP4fk4bz"
      },
      "source": [
        ""
      ],
      "execution_count": null,
      "outputs": []
    }
  ]
}